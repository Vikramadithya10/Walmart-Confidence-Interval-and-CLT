{
 "cells": [
  {
   "cell_type": "code",
   "execution_count": 1,
   "id": "6a8c6335",
   "metadata": {},
   "outputs": [],
   "source": [
    "import pandas as pd\n",
    "import numpy as np\n",
    "import seaborn as sns\n",
    "import matplotlib.pyplot as plt"
   ]
  },
  {
   "cell_type": "code",
   "execution_count": 2,
   "id": "2ed8f2ec",
   "metadata": {},
   "outputs": [],
   "source": [
    "data = pd.read_csv('walmart_data.csv')"
   ]
  },
  {
   "cell_type": "code",
   "execution_count": 3,
   "id": "05f5f14a",
   "metadata": {},
   "outputs": [
    {
     "data": {
      "text/plain": [
       "(550068, 10)"
      ]
     },
     "execution_count": 3,
     "metadata": {},
     "output_type": "execute_result"
    }
   ],
   "source": [
    "data.shape"
   ]
  },
  {
   "cell_type": "code",
   "execution_count": 4,
   "id": "54d7bdac",
   "metadata": {},
   "outputs": [
    {
     "data": {
      "text/html": [
       "<div>\n",
       "<style scoped>\n",
       "    .dataframe tbody tr th:only-of-type {\n",
       "        vertical-align: middle;\n",
       "    }\n",
       "\n",
       "    .dataframe tbody tr th {\n",
       "        vertical-align: top;\n",
       "    }\n",
       "\n",
       "    .dataframe thead th {\n",
       "        text-align: right;\n",
       "    }\n",
       "</style>\n",
       "<table border=\"1\" class=\"dataframe\">\n",
       "  <thead>\n",
       "    <tr style=\"text-align: right;\">\n",
       "      <th></th>\n",
       "      <th>User_ID</th>\n",
       "      <th>Product_ID</th>\n",
       "      <th>Gender</th>\n",
       "      <th>Age</th>\n",
       "      <th>Occupation</th>\n",
       "      <th>City_Category</th>\n",
       "      <th>Stay_In_Current_City_Years</th>\n",
       "      <th>Marital_Status</th>\n",
       "      <th>Product_Category</th>\n",
       "      <th>Purchase</th>\n",
       "    </tr>\n",
       "  </thead>\n",
       "  <tbody>\n",
       "    <tr>\n",
       "      <th>0</th>\n",
       "      <td>1000001</td>\n",
       "      <td>P00069042</td>\n",
       "      <td>F</td>\n",
       "      <td>0-17</td>\n",
       "      <td>10</td>\n",
       "      <td>A</td>\n",
       "      <td>2</td>\n",
       "      <td>0</td>\n",
       "      <td>3</td>\n",
       "      <td>8370</td>\n",
       "    </tr>\n",
       "    <tr>\n",
       "      <th>1</th>\n",
       "      <td>1000001</td>\n",
       "      <td>P00248942</td>\n",
       "      <td>F</td>\n",
       "      <td>0-17</td>\n",
       "      <td>10</td>\n",
       "      <td>A</td>\n",
       "      <td>2</td>\n",
       "      <td>0</td>\n",
       "      <td>1</td>\n",
       "      <td>15200</td>\n",
       "    </tr>\n",
       "    <tr>\n",
       "      <th>2</th>\n",
       "      <td>1000001</td>\n",
       "      <td>P00087842</td>\n",
       "      <td>F</td>\n",
       "      <td>0-17</td>\n",
       "      <td>10</td>\n",
       "      <td>A</td>\n",
       "      <td>2</td>\n",
       "      <td>0</td>\n",
       "      <td>12</td>\n",
       "      <td>1422</td>\n",
       "    </tr>\n",
       "    <tr>\n",
       "      <th>3</th>\n",
       "      <td>1000001</td>\n",
       "      <td>P00085442</td>\n",
       "      <td>F</td>\n",
       "      <td>0-17</td>\n",
       "      <td>10</td>\n",
       "      <td>A</td>\n",
       "      <td>2</td>\n",
       "      <td>0</td>\n",
       "      <td>12</td>\n",
       "      <td>1057</td>\n",
       "    </tr>\n",
       "    <tr>\n",
       "      <th>4</th>\n",
       "      <td>1000002</td>\n",
       "      <td>P00285442</td>\n",
       "      <td>M</td>\n",
       "      <td>55+</td>\n",
       "      <td>16</td>\n",
       "      <td>C</td>\n",
       "      <td>4+</td>\n",
       "      <td>0</td>\n",
       "      <td>8</td>\n",
       "      <td>7969</td>\n",
       "    </tr>\n",
       "  </tbody>\n",
       "</table>\n",
       "</div>"
      ],
      "text/plain": [
       "   User_ID Product_ID Gender   Age  Occupation City_Category  \\\n",
       "0  1000001  P00069042      F  0-17          10             A   \n",
       "1  1000001  P00248942      F  0-17          10             A   \n",
       "2  1000001  P00087842      F  0-17          10             A   \n",
       "3  1000001  P00085442      F  0-17          10             A   \n",
       "4  1000002  P00285442      M   55+          16             C   \n",
       "\n",
       "  Stay_In_Current_City_Years  Marital_Status  Product_Category  Purchase  \n",
       "0                          2               0                 3      8370  \n",
       "1                          2               0                 1     15200  \n",
       "2                          2               0                12      1422  \n",
       "3                          2               0                12      1057  \n",
       "4                         4+               0                 8      7969  "
      ]
     },
     "execution_count": 4,
     "metadata": {},
     "output_type": "execute_result"
    }
   ],
   "source": [
    "data.head()"
   ]
  },
  {
   "cell_type": "markdown",
   "id": "161f6a46",
   "metadata": {},
   "source": [
    "#### Checking for data types"
   ]
  },
  {
   "cell_type": "code",
   "execution_count": 5,
   "id": "02798e5a",
   "metadata": {},
   "outputs": [
    {
     "data": {
      "text/plain": [
       "User_ID                        int64\n",
       "Product_ID                    object\n",
       "Gender                        object\n",
       "Age                           object\n",
       "Occupation                     int64\n",
       "City_Category                 object\n",
       "Stay_In_Current_City_Years    object\n",
       "Marital_Status                 int64\n",
       "Product_Category               int64\n",
       "Purchase                       int64\n",
       "dtype: object"
      ]
     },
     "execution_count": 5,
     "metadata": {},
     "output_type": "execute_result"
    }
   ],
   "source": [
    "data.dtypes"
   ]
  },
  {
   "cell_type": "markdown",
   "id": "1df4c1d5",
   "metadata": {},
   "source": [
    "#### Checking for Missing values"
   ]
  },
  {
   "cell_type": "code",
   "execution_count": 6,
   "id": "b7334d32",
   "metadata": {},
   "outputs": [
    {
     "data": {
      "text/plain": [
       "User_ID                       0\n",
       "Product_ID                    0\n",
       "Gender                        0\n",
       "Age                           0\n",
       "Occupation                    0\n",
       "City_Category                 0\n",
       "Stay_In_Current_City_Years    0\n",
       "Marital_Status                0\n",
       "Product_Category              0\n",
       "Purchase                      0\n",
       "dtype: int64"
      ]
     },
     "execution_count": 6,
     "metadata": {},
     "output_type": "execute_result"
    }
   ],
   "source": [
    "data.isna().sum()"
   ]
  },
  {
   "cell_type": "code",
   "execution_count": 7,
   "id": "25f72507",
   "metadata": {},
   "outputs": [
    {
     "name": "stdout",
     "output_type": "stream",
     "text": [
      "<class 'pandas.core.frame.DataFrame'>\n",
      "RangeIndex: 550068 entries, 0 to 550067\n",
      "Data columns (total 10 columns):\n",
      " #   Column                      Non-Null Count   Dtype \n",
      "---  ------                      --------------   ----- \n",
      " 0   User_ID                     550068 non-null  int64 \n",
      " 1   Product_ID                  550068 non-null  object\n",
      " 2   Gender                      550068 non-null  object\n",
      " 3   Age                         550068 non-null  object\n",
      " 4   Occupation                  550068 non-null  int64 \n",
      " 5   City_Category               550068 non-null  object\n",
      " 6   Stay_In_Current_City_Years  550068 non-null  object\n",
      " 7   Marital_Status              550068 non-null  int64 \n",
      " 8   Product_Category            550068 non-null  int64 \n",
      " 9   Purchase                    550068 non-null  int64 \n",
      "dtypes: int64(5), object(5)\n",
      "memory usage: 42.0+ MB\n"
     ]
    }
   ],
   "source": [
    "data.info()"
   ]
  },
  {
   "cell_type": "code",
   "execution_count": 8,
   "id": "de5039c8",
   "metadata": {},
   "outputs": [
    {
     "data": {
      "text/html": [
       "<div>\n",
       "<style scoped>\n",
       "    .dataframe tbody tr th:only-of-type {\n",
       "        vertical-align: middle;\n",
       "    }\n",
       "\n",
       "    .dataframe tbody tr th {\n",
       "        vertical-align: top;\n",
       "    }\n",
       "\n",
       "    .dataframe thead th {\n",
       "        text-align: right;\n",
       "    }\n",
       "</style>\n",
       "<table border=\"1\" class=\"dataframe\">\n",
       "  <thead>\n",
       "    <tr style=\"text-align: right;\">\n",
       "      <th></th>\n",
       "      <th>User_ID</th>\n",
       "      <th>Occupation</th>\n",
       "      <th>Marital_Status</th>\n",
       "      <th>Product_Category</th>\n",
       "      <th>Purchase</th>\n",
       "    </tr>\n",
       "  </thead>\n",
       "  <tbody>\n",
       "    <tr>\n",
       "      <th>count</th>\n",
       "      <td>5.500680e+05</td>\n",
       "      <td>550068.000000</td>\n",
       "      <td>550068.000000</td>\n",
       "      <td>550068.000000</td>\n",
       "      <td>550068.000000</td>\n",
       "    </tr>\n",
       "    <tr>\n",
       "      <th>mean</th>\n",
       "      <td>1.003029e+06</td>\n",
       "      <td>8.076707</td>\n",
       "      <td>0.409653</td>\n",
       "      <td>5.404270</td>\n",
       "      <td>9263.968713</td>\n",
       "    </tr>\n",
       "    <tr>\n",
       "      <th>std</th>\n",
       "      <td>1.727592e+03</td>\n",
       "      <td>6.522660</td>\n",
       "      <td>0.491770</td>\n",
       "      <td>3.936211</td>\n",
       "      <td>5023.065394</td>\n",
       "    </tr>\n",
       "    <tr>\n",
       "      <th>min</th>\n",
       "      <td>1.000001e+06</td>\n",
       "      <td>0.000000</td>\n",
       "      <td>0.000000</td>\n",
       "      <td>1.000000</td>\n",
       "      <td>12.000000</td>\n",
       "    </tr>\n",
       "    <tr>\n",
       "      <th>25%</th>\n",
       "      <td>1.001516e+06</td>\n",
       "      <td>2.000000</td>\n",
       "      <td>0.000000</td>\n",
       "      <td>1.000000</td>\n",
       "      <td>5823.000000</td>\n",
       "    </tr>\n",
       "    <tr>\n",
       "      <th>50%</th>\n",
       "      <td>1.003077e+06</td>\n",
       "      <td>7.000000</td>\n",
       "      <td>0.000000</td>\n",
       "      <td>5.000000</td>\n",
       "      <td>8047.000000</td>\n",
       "    </tr>\n",
       "    <tr>\n",
       "      <th>75%</th>\n",
       "      <td>1.004478e+06</td>\n",
       "      <td>14.000000</td>\n",
       "      <td>1.000000</td>\n",
       "      <td>8.000000</td>\n",
       "      <td>12054.000000</td>\n",
       "    </tr>\n",
       "    <tr>\n",
       "      <th>max</th>\n",
       "      <td>1.006040e+06</td>\n",
       "      <td>20.000000</td>\n",
       "      <td>1.000000</td>\n",
       "      <td>20.000000</td>\n",
       "      <td>23961.000000</td>\n",
       "    </tr>\n",
       "  </tbody>\n",
       "</table>\n",
       "</div>"
      ],
      "text/plain": [
       "            User_ID     Occupation  Marital_Status  Product_Category  \\\n",
       "count  5.500680e+05  550068.000000   550068.000000     550068.000000   \n",
       "mean   1.003029e+06       8.076707        0.409653          5.404270   \n",
       "std    1.727592e+03       6.522660        0.491770          3.936211   \n",
       "min    1.000001e+06       0.000000        0.000000          1.000000   \n",
       "25%    1.001516e+06       2.000000        0.000000          1.000000   \n",
       "50%    1.003077e+06       7.000000        0.000000          5.000000   \n",
       "75%    1.004478e+06      14.000000        1.000000          8.000000   \n",
       "max    1.006040e+06      20.000000        1.000000         20.000000   \n",
       "\n",
       "            Purchase  \n",
       "count  550068.000000  \n",
       "mean     9263.968713  \n",
       "std      5023.065394  \n",
       "min        12.000000  \n",
       "25%      5823.000000  \n",
       "50%      8047.000000  \n",
       "75%     12054.000000  \n",
       "max     23961.000000  "
      ]
     },
     "execution_count": 8,
     "metadata": {},
     "output_type": "execute_result"
    }
   ],
   "source": [
    "data.describe()"
   ]
  },
  {
   "cell_type": "code",
   "execution_count": 9,
   "id": "1911538e",
   "metadata": {},
   "outputs": [
    {
     "data": {
      "text/html": [
       "<div>\n",
       "<style scoped>\n",
       "    .dataframe tbody tr th:only-of-type {\n",
       "        vertical-align: middle;\n",
       "    }\n",
       "\n",
       "    .dataframe tbody tr th {\n",
       "        vertical-align: top;\n",
       "    }\n",
       "\n",
       "    .dataframe thead th {\n",
       "        text-align: right;\n",
       "    }\n",
       "</style>\n",
       "<table border=\"1\" class=\"dataframe\">\n",
       "  <thead>\n",
       "    <tr style=\"text-align: right;\">\n",
       "      <th></th>\n",
       "      <th>Product_ID</th>\n",
       "      <th>Gender</th>\n",
       "      <th>Age</th>\n",
       "      <th>City_Category</th>\n",
       "      <th>Stay_In_Current_City_Years</th>\n",
       "    </tr>\n",
       "  </thead>\n",
       "  <tbody>\n",
       "    <tr>\n",
       "      <th>count</th>\n",
       "      <td>550068</td>\n",
       "      <td>550068</td>\n",
       "      <td>550068</td>\n",
       "      <td>550068</td>\n",
       "      <td>550068</td>\n",
       "    </tr>\n",
       "    <tr>\n",
       "      <th>unique</th>\n",
       "      <td>3631</td>\n",
       "      <td>2</td>\n",
       "      <td>7</td>\n",
       "      <td>3</td>\n",
       "      <td>5</td>\n",
       "    </tr>\n",
       "    <tr>\n",
       "      <th>top</th>\n",
       "      <td>P00265242</td>\n",
       "      <td>M</td>\n",
       "      <td>26-35</td>\n",
       "      <td>B</td>\n",
       "      <td>1</td>\n",
       "    </tr>\n",
       "    <tr>\n",
       "      <th>freq</th>\n",
       "      <td>1880</td>\n",
       "      <td>414259</td>\n",
       "      <td>219587</td>\n",
       "      <td>231173</td>\n",
       "      <td>193821</td>\n",
       "    </tr>\n",
       "  </tbody>\n",
       "</table>\n",
       "</div>"
      ],
      "text/plain": [
       "       Product_ID  Gender     Age City_Category Stay_In_Current_City_Years\n",
       "count      550068  550068  550068        550068                     550068\n",
       "unique       3631       2       7             3                          5\n",
       "top     P00265242       M   26-35             B                          1\n",
       "freq         1880  414259  219587        231173                     193821"
      ]
     },
     "execution_count": 9,
     "metadata": {},
     "output_type": "execute_result"
    }
   ],
   "source": [
    "data.describe(include='object')"
   ]
  },
  {
   "cell_type": "code",
   "execution_count": 10,
   "id": "e981f33b",
   "metadata": {},
   "outputs": [],
   "source": [
    "data['User_ID'] = data['User_ID'].astype('object')\n",
    "data['Product_Category'] = data['Product_Category'].astype('object')\n",
    "data['Marital_Status'] = data['Marital_Status'].astype('object')\n",
    "data['Occupation'] = data['Occupation'].astype('object')"
   ]
  },
  {
   "cell_type": "code",
   "execution_count": 11,
   "id": "bf9b3874",
   "metadata": {},
   "outputs": [
    {
     "data": {
      "text/plain": [
       "User_ID                       object\n",
       "Product_ID                    object\n",
       "Gender                        object\n",
       "Age                           object\n",
       "Occupation                    object\n",
       "City_Category                 object\n",
       "Stay_In_Current_City_Years    object\n",
       "Marital_Status                object\n",
       "Product_Category              object\n",
       "Purchase                       int64\n",
       "dtype: object"
      ]
     },
     "execution_count": 11,
     "metadata": {},
     "output_type": "execute_result"
    }
   ],
   "source": [
    "data.dtypes"
   ]
  },
  {
   "cell_type": "code",
   "execution_count": 12,
   "id": "907703f7",
   "metadata": {},
   "outputs": [
    {
     "data": {
      "text/html": [
       "<div>\n",
       "<style scoped>\n",
       "    .dataframe tbody tr th:only-of-type {\n",
       "        vertical-align: middle;\n",
       "    }\n",
       "\n",
       "    .dataframe tbody tr th {\n",
       "        vertical-align: top;\n",
       "    }\n",
       "\n",
       "    .dataframe thead th {\n",
       "        text-align: right;\n",
       "    }\n",
       "</style>\n",
       "<table border=\"1\" class=\"dataframe\">\n",
       "  <thead>\n",
       "    <tr style=\"text-align: right;\">\n",
       "      <th></th>\n",
       "      <th>Purchase</th>\n",
       "    </tr>\n",
       "  </thead>\n",
       "  <tbody>\n",
       "    <tr>\n",
       "      <th>count</th>\n",
       "      <td>550068.000000</td>\n",
       "    </tr>\n",
       "    <tr>\n",
       "      <th>mean</th>\n",
       "      <td>9263.968713</td>\n",
       "    </tr>\n",
       "    <tr>\n",
       "      <th>std</th>\n",
       "      <td>5023.065394</td>\n",
       "    </tr>\n",
       "    <tr>\n",
       "      <th>min</th>\n",
       "      <td>12.000000</td>\n",
       "    </tr>\n",
       "    <tr>\n",
       "      <th>25%</th>\n",
       "      <td>5823.000000</td>\n",
       "    </tr>\n",
       "    <tr>\n",
       "      <th>50%</th>\n",
       "      <td>8047.000000</td>\n",
       "    </tr>\n",
       "    <tr>\n",
       "      <th>75%</th>\n",
       "      <td>12054.000000</td>\n",
       "    </tr>\n",
       "    <tr>\n",
       "      <th>max</th>\n",
       "      <td>23961.000000</td>\n",
       "    </tr>\n",
       "  </tbody>\n",
       "</table>\n",
       "</div>"
      ],
      "text/plain": [
       "            Purchase\n",
       "count  550068.000000\n",
       "mean     9263.968713\n",
       "std      5023.065394\n",
       "min        12.000000\n",
       "25%      5823.000000\n",
       "50%      8047.000000\n",
       "75%     12054.000000\n",
       "max     23961.000000"
      ]
     },
     "execution_count": 12,
     "metadata": {},
     "output_type": "execute_result"
    }
   ],
   "source": [
    "data.describe()"
   ]
  },
  {
   "cell_type": "code",
   "execution_count": 13,
   "id": "0cb299ee",
   "metadata": {},
   "outputs": [
    {
     "data": {
      "text/html": [
       "<div>\n",
       "<style scoped>\n",
       "    .dataframe tbody tr th:only-of-type {\n",
       "        vertical-align: middle;\n",
       "    }\n",
       "\n",
       "    .dataframe tbody tr th {\n",
       "        vertical-align: top;\n",
       "    }\n",
       "\n",
       "    .dataframe thead th {\n",
       "        text-align: right;\n",
       "    }\n",
       "</style>\n",
       "<table border=\"1\" class=\"dataframe\">\n",
       "  <thead>\n",
       "    <tr style=\"text-align: right;\">\n",
       "      <th></th>\n",
       "      <th>User_ID</th>\n",
       "      <th>Product_ID</th>\n",
       "      <th>Gender</th>\n",
       "      <th>Age</th>\n",
       "      <th>Occupation</th>\n",
       "      <th>City_Category</th>\n",
       "      <th>Stay_In_Current_City_Years</th>\n",
       "      <th>Marital_Status</th>\n",
       "      <th>Product_Category</th>\n",
       "    </tr>\n",
       "  </thead>\n",
       "  <tbody>\n",
       "    <tr>\n",
       "      <th>count</th>\n",
       "      <td>550068</td>\n",
       "      <td>550068</td>\n",
       "      <td>550068</td>\n",
       "      <td>550068</td>\n",
       "      <td>550068</td>\n",
       "      <td>550068</td>\n",
       "      <td>550068</td>\n",
       "      <td>550068</td>\n",
       "      <td>550068</td>\n",
       "    </tr>\n",
       "    <tr>\n",
       "      <th>unique</th>\n",
       "      <td>5891</td>\n",
       "      <td>3631</td>\n",
       "      <td>2</td>\n",
       "      <td>7</td>\n",
       "      <td>21</td>\n",
       "      <td>3</td>\n",
       "      <td>5</td>\n",
       "      <td>2</td>\n",
       "      <td>20</td>\n",
       "    </tr>\n",
       "    <tr>\n",
       "      <th>top</th>\n",
       "      <td>1001680</td>\n",
       "      <td>P00265242</td>\n",
       "      <td>M</td>\n",
       "      <td>26-35</td>\n",
       "      <td>4</td>\n",
       "      <td>B</td>\n",
       "      <td>1</td>\n",
       "      <td>0</td>\n",
       "      <td>5</td>\n",
       "    </tr>\n",
       "    <tr>\n",
       "      <th>freq</th>\n",
       "      <td>1026</td>\n",
       "      <td>1880</td>\n",
       "      <td>414259</td>\n",
       "      <td>219587</td>\n",
       "      <td>72308</td>\n",
       "      <td>231173</td>\n",
       "      <td>193821</td>\n",
       "      <td>324731</td>\n",
       "      <td>150933</td>\n",
       "    </tr>\n",
       "  </tbody>\n",
       "</table>\n",
       "</div>"
      ],
      "text/plain": [
       "        User_ID Product_ID  Gender     Age  Occupation City_Category  \\\n",
       "count    550068     550068  550068  550068      550068        550068   \n",
       "unique     5891       3631       2       7          21             3   \n",
       "top     1001680  P00265242       M   26-35           4             B   \n",
       "freq       1026       1880  414259  219587       72308        231173   \n",
       "\n",
       "       Stay_In_Current_City_Years  Marital_Status  Product_Category  \n",
       "count                      550068          550068            550068  \n",
       "unique                          5               2                20  \n",
       "top                             1               0                 5  \n",
       "freq                       193821          324731            150933  "
      ]
     },
     "execution_count": 13,
     "metadata": {},
     "output_type": "execute_result"
    }
   ],
   "source": [
    "data.describe(include='object')"
   ]
  },
  {
   "cell_type": "code",
   "execution_count": 21,
   "id": "cabd9589",
   "metadata": {},
   "outputs": [
    {
     "data": {
      "text/plain": [
       "5891"
      ]
     },
     "execution_count": 21,
     "metadata": {},
     "output_type": "execute_result"
    }
   ],
   "source": [
    "data['User_ID'].nunique()"
   ]
  },
  {
   "cell_type": "code",
   "execution_count": 22,
   "id": "724cb31c",
   "metadata": {},
   "outputs": [
    {
     "data": {
      "text/plain": [
       "3631"
      ]
     },
     "execution_count": 22,
     "metadata": {},
     "output_type": "execute_result"
    }
   ],
   "source": [
    "data['Product_ID'].nunique()"
   ]
  },
  {
   "cell_type": "markdown",
   "id": "6acf88c4",
   "metadata": {},
   "source": [
    "Observation:\n",
    "- There are no missing values\n",
    "- There are 5891 unique users\n",
    "- There are 3631 unique products"
   ]
  },
  {
   "cell_type": "markdown",
   "id": "cdd0e793",
   "metadata": {},
   "source": [
    "## Univariate Analysis"
   ]
  },
  {
   "cell_type": "markdown",
   "id": "32792222",
   "metadata": {},
   "source": [
    "### Continuous Variables"
   ]
  },
  {
   "cell_type": "code",
   "execution_count": 12,
   "id": "db33c480",
   "metadata": {},
   "outputs": [],
   "source": [
    "# Calculate the number of bins using Sturges' rule\n",
    "N = 550068  # Total number of purchases\n",
    "bins_sturges = int(np.log2(N) + 1)\n",
    "bins_sqrt = int(np.sqrt(N))"
   ]
  },
  {
   "cell_type": "code",
   "execution_count": 13,
   "id": "7b189fc0",
   "metadata": {},
   "outputs": [
    {
     "name": "stderr",
     "output_type": "stream",
     "text": [
      "C:\\Users\\maroj\\Anaconda3\\lib\\site-packages\\seaborn\\distributions.py:2619: FutureWarning: `distplot` is a deprecated function and will be removed in a future version. Please adapt your code to use either `displot` (a figure-level function with similar flexibility) or `histplot` (an axes-level function for histograms).\n",
      "  warnings.warn(msg, FutureWarning)\n"
     ]
    },
    {
     "data": {
      "image/png": "[encoded data removed]",
      "text/plain": [
       "<Figure size 720x432 with 1 Axes>"
      ]
     },
     "metadata": {
      "needs_background": "light"
     },
     "output_type": "display_data"
    }
   ],
   "source": [
    "plt.figure(figsize=(10, 6))\n",
    "sns.distplot(data['Purchase'], bins=bins_sturges, kde=True)\n",
    "plt.title('Histogram of Purchase Amount')\n",
    "plt.xlabel('Purchase Amount')\n",
    "plt.ylabel('Frequency')\n",
    "plt.show()"
   ]
  },
  {
   "cell_type": "code",
   "execution_count": 14,
   "id": "30c6f957",
   "metadata": {},
   "outputs": [
    {
     "name": "stderr",
     "output_type": "stream",
     "text": [
      "C:\\Users\\maroj\\Anaconda3\\lib\\site-packages\\seaborn\\distributions.py:2619: FutureWarning: `distplot` is a deprecated function and will be removed in a future version. Please adapt your code to use either `displot` (a figure-level function with similar flexibility) or `histplot` (an axes-level function for histograms).\n",
      "  warnings.warn(msg, FutureWarning)\n"
     ]
    },
    {
     "data": {
      "image/png": "[encoded data removed]",
      "text/plain": [
       "<Figure size 720x432 with 1 Axes>"
      ]
     },
     "metadata": {
      "needs_background": "light"
     },
     "output_type": "display_data"
    }
   ],
   "source": [
    "plt.figure(figsize=(10, 6))\n",
    "sns.distplot(data['Purchase'], bins=bins_sqrt, kde=True)\n",
    "plt.title('Histogram of Purchase Amount (Square root rule)')\n",
    "plt.xlabel('Purchase Amount')\n",
    "plt.ylabel('Frequency')\n",
    "plt.show()"
   ]
  },
  {
   "cell_type": "code",
   "execution_count": 15,
   "id": "07ad9d2c",
   "metadata": {},
   "outputs": [
    {
     "data": {
      "image/png": "[encoded data removed]",
      "text/plain": [
       "<Figure size 720x432 with 1 Axes>"
      ]
     },
     "metadata": {
      "needs_background": "light"
     },
     "output_type": "display_data"
    }
   ],
   "source": [
    "plt.figure(figsize=(10, 6))\n",
    "sns.boxplot(x=data['Purchase'])\n",
    "plt.title('Box Plot of Purchase Amount')\n",
    "plt.xlabel('Purchase Amount')\n",
    "plt.show()"
   ]
  },
  {
   "cell_type": "code",
   "execution_count": 16,
   "id": "88b47a67",
   "metadata": {},
   "outputs": [],
   "source": [
    "# Calculate the 5th and 95th percentiles\n",
    "p5 = data['Purchase'].quantile(0.05)\n",
    "p95 = data['Purchase'].quantile(0.95)"
   ]
  },
  {
   "cell_type": "code",
   "execution_count": 17,
   "id": "f21f5b51",
   "metadata": {},
   "outputs": [],
   "source": [
    "# Clip the Purchase column between the 5th and 95th percentiles\n",
    "data['Purchase_clipped'] = np.clip(data['Purchase'], p5, p95)"
   ]
  },
  {
   "cell_type": "code",
   "execution_count": 18,
   "id": "f26dc7a7",
   "metadata": {},
   "outputs": [
    {
     "data": {
      "image/png": "[encoded data removed]",
      "text/plain": [
       "<Figure size 720x432 with 1 Axes>"
      ]
     },
     "metadata": {
      "needs_background": "light"
     },
     "output_type": "display_data"
    }
   ],
   "source": [
    "# Plot the box plot\n",
    "plt.figure(figsize=(10, 6))\n",
    "sns.boxplot(x=data['Purchase_clipped'])\n",
    "plt.title('Box Plot of Clipped Purchase Amount')\n",
    "plt.xlabel('Purchase Amount')\n",
    "plt.show()"
   ]
  },
  {
   "cell_type": "markdown",
   "id": "a48e809d",
   "metadata": {},
   "source": [
    "### Categorical Variables"
   ]
  },
  {
   "cell_type": "markdown",
   "id": "3c980411",
   "metadata": {},
   "source": [
    "#### Gender"
   ]
  },
  {
   "cell_type": "code",
   "execution_count": 14,
   "id": "d6eb4e93",
   "metadata": {},
   "outputs": [
    {
     "data": {
      "text/plain": [
       "M    0.753105\n",
       "F    0.246895\n",
       "Name: Gender, dtype: float64"
      ]
     },
     "execution_count": 14,
     "metadata": {},
     "output_type": "execute_result"
    }
   ],
   "source": [
    "data['Gender'].value_counts(normalize=True)"
   ]
  },
  {
   "cell_type": "code",
   "execution_count": 19,
   "id": "7f843dc7",
   "metadata": {},
   "outputs": [
    {
     "data": {
      "text/plain": [
       "M    414259\n",
       "F    135809\n",
       "Name: Gender, dtype: int64"
      ]
     },
     "execution_count": 19,
     "metadata": {},
     "output_type": "execute_result"
    }
   ],
   "source": [
    "data['Gender'].value_counts()"
   ]
  },
  {
   "cell_type": "code",
   "execution_count": 20,
   "id": "76cdf650",
   "metadata": {},
   "outputs": [
    {
     "data": {
      "image/png": "[encoded data removed]",
      "text/plain": [
       "<Figure size 576x432 with 1 Axes>"
      ]
     },
     "metadata": {
      "needs_background": "light"
     },
     "output_type": "display_data"
    }
   ],
   "source": [
    "plt.figure(figsize=(8, 6))\n",
    "sns.countplot(x='Gender', data=data)\n",
    "plt.title('Count Plot for Gender')\n",
    "plt.xlabel('Gender')\n",
    "plt.ylabel('Count')\n",
    "plt.show()"
   ]
  },
  {
   "cell_type": "markdown",
   "id": "6757d90f",
   "metadata": {},
   "source": [
    "#### Age"
   ]
  },
  {
   "cell_type": "code",
   "execution_count": 15,
   "id": "f99394bc",
   "metadata": {},
   "outputs": [
    {
     "data": {
      "text/plain": [
       "26-35    0.399200\n",
       "36-45    0.199999\n",
       "18-25    0.181178\n",
       "46-50    0.083082\n",
       "51-55    0.069993\n",
       "55+      0.039093\n",
       "0-17     0.027455\n",
       "Name: Age, dtype: float64"
      ]
     },
     "execution_count": 15,
     "metadata": {},
     "output_type": "execute_result"
    }
   ],
   "source": [
    "data['Age'].value_counts(normalize=True)"
   ]
  },
  {
   "cell_type": "code",
   "execution_count": 21,
   "id": "9dab333c",
   "metadata": {},
   "outputs": [
    {
     "data": {
      "text/plain": [
       "26-35    219587\n",
       "36-45    110013\n",
       "18-25     99660\n",
       "46-50     45701\n",
       "51-55     38501\n",
       "55+       21504\n",
       "0-17      15102\n",
       "Name: Age, dtype: int64"
      ]
     },
     "execution_count": 21,
     "metadata": {},
     "output_type": "execute_result"
    }
   ],
   "source": [
    "data['Age'].value_counts()"
   ]
  },
  {
   "cell_type": "code",
   "execution_count": 22,
   "id": "ff5b63e2",
   "metadata": {},
   "outputs": [
    {
     "data": {
      "image/png": "[encoded data removed]",
      "text/plain": [
       "<Figure size 576x432 with 1 Axes>"
      ]
     },
     "metadata": {
      "needs_background": "light"
     },
     "output_type": "display_data"
    }
   ],
   "source": [
    "plt.figure(figsize=(8, 6))\n",
    "sns.countplot(x='Age', data=data)\n",
    "plt.title('Count Plot for Age')\n",
    "plt.xlabel('Age')\n",
    "plt.ylabel('Count')\n",
    "plt.show()"
   ]
  },
  {
   "cell_type": "markdown",
   "id": "0f908be4",
   "metadata": {},
   "source": [
    "#### Occupation"
   ]
  },
  {
   "cell_type": "code",
   "execution_count": 16,
   "id": "933e3c46",
   "metadata": {},
   "outputs": [
    {
     "data": {
      "text/plain": [
       "4     0.131453\n",
       "0     0.126599\n",
       "7     0.107501\n",
       "1     0.086218\n",
       "17    0.072796\n",
       "20    0.061014\n",
       "12    0.056682\n",
       "14    0.049647\n",
       "2     0.048336\n",
       "16    0.046123\n",
       "6     0.037005\n",
       "3     0.032087\n",
       "10    0.023506\n",
       "5     0.022137\n",
       "15    0.022115\n",
       "11    0.021063\n",
       "19    0.015382\n",
       "13    0.014049\n",
       "18    0.012039\n",
       "9     0.011437\n",
       "8     0.002811\n",
       "Name: Occupation, dtype: float64"
      ]
     },
     "execution_count": 16,
     "metadata": {},
     "output_type": "execute_result"
    }
   ],
   "source": [
    "data['Occupation'].value_counts(normalize=True)"
   ]
  },
  {
   "cell_type": "code",
   "execution_count": 23,
   "id": "b9540df1",
   "metadata": {},
   "outputs": [
    {
     "data": {
      "text/plain": [
       "4     72308\n",
       "0     69638\n",
       "7     59133\n",
       "1     47426\n",
       "17    40043\n",
       "20    33562\n",
       "12    31179\n",
       "14    27309\n",
       "2     26588\n",
       "16    25371\n",
       "6     20355\n",
       "3     17650\n",
       "10    12930\n",
       "5     12177\n",
       "15    12165\n",
       "11    11586\n",
       "19     8461\n",
       "13     7728\n",
       "18     6622\n",
       "9      6291\n",
       "8      1546\n",
       "Name: Occupation, dtype: int64"
      ]
     },
     "execution_count": 23,
     "metadata": {},
     "output_type": "execute_result"
    }
   ],
   "source": [
    "data['Occupation'].value_counts()"
   ]
  },
  {
   "cell_type": "code",
   "execution_count": 24,
   "id": "9c49fdd5",
   "metadata": {},
   "outputs": [
    {
     "data": {
      "image/png": "[encoded data removed]",
      "text/plain": [
       "<Figure size 1080x432 with 1 Axes>"
      ]
     },
     "metadata": {
      "needs_background": "light"
     },
     "output_type": "display_data"
    }
   ],
   "source": [
    "plt.figure(figsize=(15, 6))\n",
    "sns.countplot(x='Occupation', data=data)\n",
    "plt.title('Count Plot for Occupation')\n",
    "plt.xlabel('Occupation')\n",
    "plt.ylabel('Count')\n",
    "plt.show()"
   ]
  },
  {
   "cell_type": "markdown",
   "id": "7aa8eea6",
   "metadata": {},
   "source": [
    "#### City_Category"
   ]
  },
  {
   "cell_type": "code",
   "execution_count": 17,
   "id": "40b6d46c",
   "metadata": {},
   "outputs": [
    {
     "data": {
      "text/plain": [
       "B    0.420263\n",
       "C    0.311189\n",
       "A    0.268549\n",
       "Name: City_Category, dtype: float64"
      ]
     },
     "execution_count": 17,
     "metadata": {},
     "output_type": "execute_result"
    }
   ],
   "source": [
    "data['City_Category'].value_counts(normalize=True)"
   ]
  },
  {
   "cell_type": "code",
   "execution_count": 25,
   "id": "c86d3dfd",
   "metadata": {},
   "outputs": [
    {
     "data": {
      "text/plain": [
       "B    231173\n",
       "C    171175\n",
       "A    147720\n",
       "Name: City_Category, dtype: int64"
      ]
     },
     "execution_count": 25,
     "metadata": {},
     "output_type": "execute_result"
    }
   ],
   "source": [
    "data['City_Category'].value_counts()"
   ]
  },
  {
   "cell_type": "code",
   "execution_count": 26,
   "id": "0632dfdb",
   "metadata": {},
   "outputs": [
    {
     "data": {
      "image/png": "[encoded data removed]",
      "text/plain": [
       "<Figure size 576x432 with 1 Axes>"
      ]
     },
     "metadata": {
      "needs_background": "light"
     },
     "output_type": "display_data"
    }
   ],
   "source": [
    "plt.figure(figsize=(8, 6))\n",
    "sns.countplot(x='City_Category', data=data)\n",
    "plt.title('Count Plot for City_Category')\n",
    "plt.xlabel('City_Category')\n",
    "plt.ylabel('Count')\n",
    "plt.show()"
   ]
  },
  {
   "cell_type": "markdown",
   "id": "c624e314",
   "metadata": {},
   "source": [
    "#### Stay_In_Current_City_Years"
   ]
  },
  {
   "cell_type": "code",
   "execution_count": 18,
   "id": "3850f382",
   "metadata": {},
   "outputs": [
    {
     "data": {
      "text/plain": [
       "1     0.352358\n",
       "2     0.185137\n",
       "3     0.173224\n",
       "4+    0.154028\n",
       "0     0.135252\n",
       "Name: Stay_In_Current_City_Years, dtype: float64"
      ]
     },
     "execution_count": 18,
     "metadata": {},
     "output_type": "execute_result"
    }
   ],
   "source": [
    "data['Stay_In_Current_City_Years'].value_counts(normalize=True)"
   ]
  },
  {
   "cell_type": "code",
   "execution_count": 27,
   "id": "9f057253",
   "metadata": {},
   "outputs": [
    {
     "data": {
      "text/plain": [
       "1     193821\n",
       "2     101838\n",
       "3      95285\n",
       "4+     84726\n",
       "0      74398\n",
       "Name: Stay_In_Current_City_Years, dtype: int64"
      ]
     },
     "execution_count": 27,
     "metadata": {},
     "output_type": "execute_result"
    }
   ],
   "source": [
    "data['Stay_In_Current_City_Years'].value_counts()"
   ]
  },
  {
   "cell_type": "code",
   "execution_count": 28,
   "id": "8fa8656d",
   "metadata": {},
   "outputs": [
    {
     "data": {
      "image/png": "[encoded data removed]",
      "text/plain": [
       "<Figure size 576x432 with 1 Axes>"
      ]
     },
     "metadata": {
      "needs_background": "light"
     },
     "output_type": "display_data"
    }
   ],
   "source": [
    "plt.figure(figsize=(8, 6))\n",
    "sns.countplot(x='Stay_In_Current_City_Years', data=data)\n",
    "plt.title('Count Plot for Stay_In_Current_City_Years')\n",
    "plt.xlabel('Stay_In_Current_City_Years')\n",
    "plt.ylabel('Count')\n",
    "plt.show()"
   ]
  },
  {
   "cell_type": "markdown",
   "id": "5cf48743",
   "metadata": {},
   "source": [
    "#### Marital_Status"
   ]
  },
  {
   "cell_type": "code",
   "execution_count": 19,
   "id": "4c14192e",
   "metadata": {},
   "outputs": [
    {
     "data": {
      "text/plain": [
       "0    0.590347\n",
       "1    0.409653\n",
       "Name: Marital_Status, dtype: float64"
      ]
     },
     "execution_count": 19,
     "metadata": {},
     "output_type": "execute_result"
    }
   ],
   "source": [
    "data['Marital_Status'].value_counts(normalize=True)"
   ]
  },
  {
   "cell_type": "code",
   "execution_count": 29,
   "id": "a75f0ab7",
   "metadata": {},
   "outputs": [
    {
     "data": {
      "text/plain": [
       "0    324731\n",
       "1    225337\n",
       "Name: Marital_Status, dtype: int64"
      ]
     },
     "execution_count": 29,
     "metadata": {},
     "output_type": "execute_result"
    }
   ],
   "source": [
    "data['Marital_Status'].value_counts()"
   ]
  },
  {
   "cell_type": "code",
   "execution_count": 30,
   "id": "c0c66402",
   "metadata": {},
   "outputs": [
    {
     "data": {
      "image/png": "[encoded data removed]",
      "text/plain": [
       "<Figure size 576x432 with 1 Axes>"
      ]
     },
     "metadata": {
      "needs_background": "light"
     },
     "output_type": "display_data"
    }
   ],
   "source": [
    "plt.figure(figsize=(8, 6))\n",
    "sns.countplot(x='Marital_Status', data=data)\n",
    "plt.title('Count Plot for Marital_Status')\n",
    "plt.xlabel('Marital_Status')\n",
    "plt.ylabel('Count')\n",
    "plt.show()"
   ]
  },
  {
   "cell_type": "markdown",
   "id": "600cb56a",
   "metadata": {},
   "source": [
    "#### Product_Category"
   ]
  },
  {
   "cell_type": "code",
   "execution_count": 20,
   "id": "943cb99b",
   "metadata": {},
   "outputs": [
    {
     "data": {
      "text/plain": [
       "5     0.274390\n",
       "1     0.255201\n",
       "8     0.207111\n",
       "11    0.044153\n",
       "2     0.043384\n",
       "6     0.037206\n",
       "3     0.036746\n",
       "4     0.021366\n",
       "16    0.017867\n",
       "15    0.011435\n",
       "13    0.010088\n",
       "10    0.009317\n",
       "12    0.007175\n",
       "7     0.006765\n",
       "18    0.005681\n",
       "20    0.004636\n",
       "19    0.002914\n",
       "14    0.002769\n",
       "17    0.001051\n",
       "9     0.000745\n",
       "Name: Product_Category, dtype: float64"
      ]
     },
     "execution_count": 20,
     "metadata": {},
     "output_type": "execute_result"
    }
   ],
   "source": [
    "data['Product_Category'].value_counts(normalize=True)"
   ]
  },
  {
   "cell_type": "code",
   "execution_count": 31,
   "id": "11232a8f",
   "metadata": {},
   "outputs": [
    {
     "data": {
      "text/plain": [
       "5     150933\n",
       "1     140378\n",
       "8     113925\n",
       "11     24287\n",
       "2      23864\n",
       "6      20466\n",
       "3      20213\n",
       "4      11753\n",
       "16      9828\n",
       "15      6290\n",
       "13      5549\n",
       "10      5125\n",
       "12      3947\n",
       "7       3721\n",
       "18      3125\n",
       "20      2550\n",
       "19      1603\n",
       "14      1523\n",
       "17       578\n",
       "9        410\n",
       "Name: Product_Category, dtype: int64"
      ]
     },
     "execution_count": 31,
     "metadata": {},
     "output_type": "execute_result"
    }
   ],
   "source": [
    "data['Product_Category'].value_counts()"
   ]
  },
  {
   "cell_type": "code",
   "execution_count": 32,
   "id": "2ee39baa",
   "metadata": {},
   "outputs": [
    {
     "data": {
      "image/png": "[encoded data removed]",
      "text/plain": [
       "<Figure size 1080x432 with 1 Axes>"
      ]
     },
     "metadata": {
      "needs_background": "light"
     },
     "output_type": "display_data"
    }
   ],
   "source": [
    "plt.figure(figsize=(15, 6))\n",
    "sns.countplot(x='Product_Category', data=data)\n",
    "plt.title('Count Plot for Product_Category')\n",
    "plt.xlabel('Product_Category')\n",
    "plt.ylabel('Count')\n",
    "plt.show()"
   ]
  },
  {
   "cell_type": "markdown",
   "id": "e685a6d2",
   "metadata": {},
   "source": [
    "#### Observations\n",
    "- ~ 80% of the users are between the age 18-50 (40%: 26-35, 18%: 18-25, 20%: 36-45)\n",
    "- 75% of the users are **`Male`** and 25% are **`Female`**\n",
    "- 60% Single, 40% Married\n",
    "- 35% Staying in the city from 1 year, 18% from 2 years, 17% from 3 years\n",
    "- Total of 20 product categories are there\n",
    "- There are 20 differnent types of occupations in the city\n",
    "- Most of the users are `Male`\n",
    "- There are 20 different types of `Occupation` and `Product_Category`\n",
    "- More users belong to `B` `City_Category`\n",
    "- More users are `Single` as compare to `Married`\n",
    "- `Product_Category` - `1, 5, 8, & 11` have highest purchasing frequency."
   ]
  },
  {
   "cell_type": "markdown",
   "id": "4dc37155",
   "metadata": {},
   "source": [
    "## Bivariate Analysis"
   ]
  },
  {
   "cell_type": "markdown",
   "id": "745965c6",
   "metadata": {},
   "source": [
    "### Gender vs Purchase"
   ]
  },
  {
   "cell_type": "code",
   "execution_count": 33,
   "id": "bfa91bea",
   "metadata": {},
   "outputs": [],
   "source": [
    "# Calculate the average purchase amount for each gender\n",
    "avg_purchase_by_gender = data.groupby('Gender')['Purchase'].mean().reset_index()"
   ]
  },
  {
   "cell_type": "code",
   "execution_count": 34,
   "id": "5bfc34f6",
   "metadata": {},
   "outputs": [
    {
     "data": {
      "text/html": [
       "<div>\n",
       "<style scoped>\n",
       "    .dataframe tbody tr th:only-of-type {\n",
       "        vertical-align: middle;\n",
       "    }\n",
       "\n",
       "    .dataframe tbody tr th {\n",
       "        vertical-align: top;\n",
       "    }\n",
       "\n",
       "    .dataframe thead th {\n",
       "        text-align: right;\n",
       "    }\n",
       "</style>\n",
       "<table border=\"1\" class=\"dataframe\">\n",
       "  <thead>\n",
       "    <tr style=\"text-align: right;\">\n",
       "      <th></th>\n",
       "      <th>Gender</th>\n",
       "      <th>Purchase</th>\n",
       "    </tr>\n",
       "  </thead>\n",
       "  <tbody>\n",
       "    <tr>\n",
       "      <th>1</th>\n",
       "      <td>M</td>\n",
       "      <td>9437.526040</td>\n",
       "    </tr>\n",
       "    <tr>\n",
       "      <th>0</th>\n",
       "      <td>F</td>\n",
       "      <td>8734.565765</td>\n",
       "    </tr>\n",
       "  </tbody>\n",
       "</table>\n",
       "</div>"
      ],
      "text/plain": [
       "  Gender     Purchase\n",
       "1      M  9437.526040\n",
       "0      F  8734.565765"
      ]
     },
     "execution_count": 34,
     "metadata": {},
     "output_type": "execute_result"
    }
   ],
   "source": [
    "avg_purchase_by_gender = avg_purchase_by_gender.sort_values(by='Purchase', ascending=False)\n",
    "avg_purchase_by_gender"
   ]
  },
  {
   "cell_type": "code",
   "execution_count": 35,
   "id": "b9a9a96d",
   "metadata": {},
   "outputs": [
    {
     "data": {
      "image/png": "[encoded data removed]",
      "text/plain": [
       "<Figure size 576x432 with 1 Axes>"
      ]
     },
     "metadata": {
      "needs_background": "light"
     },
     "output_type": "display_data"
    }
   ],
   "source": [
    "# Plotting\n",
    "plt.figure(figsize=(8, 6))\n",
    "sns.barplot(x='Gender', y='Purchase', data=avg_purchase_by_gender, palette='viridis')\n",
    "plt.title('Average Purchase Amount by Gender')\n",
    "plt.xlabel('Gender')\n",
    "plt.ylabel('Average Purchase Amount')\n",
    "plt.show()"
   ]
  },
  {
   "cell_type": "markdown",
   "id": "0b688ca8",
   "metadata": {},
   "source": [
    "### Gender and Product Category"
   ]
  },
  {
   "cell_type": "code",
   "execution_count": 36,
   "id": "1cc1542a",
   "metadata": {},
   "outputs": [
    {
     "data": {
      "image/png": "[encoded data removed]",
      "text/plain": [
       "<Figure size 1440x576 with 1 Axes>"
      ]
     },
     "metadata": {
      "needs_background": "light"
     },
     "output_type": "display_data"
    }
   ],
   "source": [
    "# Plot count plot for product categories and gender\n",
    "plt.figure(figsize=(20, 8))\n",
    "sns.countplot(data=data, x='Product_Category', hue='Gender', palette='Set1')\n",
    "plt.title('Product Categories Bought by Different Genders')\n",
    "plt.xlabel('Product Category')\n",
    "plt.ylabel('Count')\n",
    "plt.show()"
   ]
  },
  {
   "cell_type": "code",
   "execution_count": 37,
   "id": "8080791a",
   "metadata": {},
   "outputs": [
    {
     "data": {
      "image/png": "[encoded data removed]",
      "text/plain": [
       "<Figure size 1008x576 with 1 Axes>"
      ]
     },
     "metadata": {
      "needs_background": "light"
     },
     "output_type": "display_data"
    }
   ],
   "source": [
    "# Get the count of each product category for each gender\n",
    "product_gender_counts = data.groupby(['Product_Category', 'Gender']).size().unstack(fill_value=0)\n",
    "\n",
    "# Plot the stacked bar chart\n",
    "product_gender_counts.plot(kind='bar', stacked=True, figsize=(14, 8), colormap='Set1')\n",
    "plt.title('Product Categories Bought by Different Gender')\n",
    "plt.xlabel('Product Category')\n",
    "plt.ylabel('Count')\n",
    "plt.legend(title='Gender')\n",
    "plt.show()"
   ]
  },
  {
   "cell_type": "code",
   "execution_count": 38,
   "id": "74d3d7d6",
   "metadata": {},
   "outputs": [
    {
     "data": {
      "text/html": [
       "<div>\n",
       "<style scoped>\n",
       "    .dataframe tbody tr th:only-of-type {\n",
       "        vertical-align: middle;\n",
       "    }\n",
       "\n",
       "    .dataframe tbody tr th {\n",
       "        vertical-align: top;\n",
       "    }\n",
       "\n",
       "    .dataframe thead th {\n",
       "        text-align: right;\n",
       "    }\n",
       "</style>\n",
       "<table border=\"1\" class=\"dataframe\">\n",
       "  <thead>\n",
       "    <tr style=\"text-align: right;\">\n",
       "      <th>Gender</th>\n",
       "      <th>F</th>\n",
       "      <th>M</th>\n",
       "    </tr>\n",
       "    <tr>\n",
       "      <th>Product_Category</th>\n",
       "      <th></th>\n",
       "      <th></th>\n",
       "    </tr>\n",
       "  </thead>\n",
       "  <tbody>\n",
       "    <tr>\n",
       "      <th>1</th>\n",
       "      <td>24831</td>\n",
       "      <td>115547</td>\n",
       "    </tr>\n",
       "    <tr>\n",
       "      <th>2</th>\n",
       "      <td>5658</td>\n",
       "      <td>18206</td>\n",
       "    </tr>\n",
       "    <tr>\n",
       "      <th>3</th>\n",
       "      <td>6006</td>\n",
       "      <td>14207</td>\n",
       "    </tr>\n",
       "    <tr>\n",
       "      <th>4</th>\n",
       "      <td>3639</td>\n",
       "      <td>8114</td>\n",
       "    </tr>\n",
       "    <tr>\n",
       "      <th>5</th>\n",
       "      <td>41961</td>\n",
       "      <td>108972</td>\n",
       "    </tr>\n",
       "    <tr>\n",
       "      <th>6</th>\n",
       "      <td>4559</td>\n",
       "      <td>15907</td>\n",
       "    </tr>\n",
       "    <tr>\n",
       "      <th>7</th>\n",
       "      <td>943</td>\n",
       "      <td>2778</td>\n",
       "    </tr>\n",
       "    <tr>\n",
       "      <th>8</th>\n",
       "      <td>33558</td>\n",
       "      <td>80367</td>\n",
       "    </tr>\n",
       "    <tr>\n",
       "      <th>9</th>\n",
       "      <td>70</td>\n",
       "      <td>340</td>\n",
       "    </tr>\n",
       "    <tr>\n",
       "      <th>10</th>\n",
       "      <td>1162</td>\n",
       "      <td>3963</td>\n",
       "    </tr>\n",
       "    <tr>\n",
       "      <th>11</th>\n",
       "      <td>4739</td>\n",
       "      <td>19548</td>\n",
       "    </tr>\n",
       "    <tr>\n",
       "      <th>12</th>\n",
       "      <td>1532</td>\n",
       "      <td>2415</td>\n",
       "    </tr>\n",
       "    <tr>\n",
       "      <th>13</th>\n",
       "      <td>1462</td>\n",
       "      <td>4087</td>\n",
       "    </tr>\n",
       "    <tr>\n",
       "      <th>14</th>\n",
       "      <td>623</td>\n",
       "      <td>900</td>\n",
       "    </tr>\n",
       "    <tr>\n",
       "      <th>15</th>\n",
       "      <td>1046</td>\n",
       "      <td>5244</td>\n",
       "    </tr>\n",
       "    <tr>\n",
       "      <th>16</th>\n",
       "      <td>2402</td>\n",
       "      <td>7426</td>\n",
       "    </tr>\n",
       "    <tr>\n",
       "      <th>17</th>\n",
       "      <td>62</td>\n",
       "      <td>516</td>\n",
       "    </tr>\n",
       "    <tr>\n",
       "      <th>18</th>\n",
       "      <td>382</td>\n",
       "      <td>2743</td>\n",
       "    </tr>\n",
       "    <tr>\n",
       "      <th>19</th>\n",
       "      <td>451</td>\n",
       "      <td>1152</td>\n",
       "    </tr>\n",
       "    <tr>\n",
       "      <th>20</th>\n",
       "      <td>723</td>\n",
       "      <td>1827</td>\n",
       "    </tr>\n",
       "  </tbody>\n",
       "</table>\n",
       "</div>"
      ],
      "text/plain": [
       "Gender                F       M\n",
       "Product_Category               \n",
       "1                 24831  115547\n",
       "2                  5658   18206\n",
       "3                  6006   14207\n",
       "4                  3639    8114\n",
       "5                 41961  108972\n",
       "6                  4559   15907\n",
       "7                   943    2778\n",
       "8                 33558   80367\n",
       "9                    70     340\n",
       "10                 1162    3963\n",
       "11                 4739   19548\n",
       "12                 1532    2415\n",
       "13                 1462    4087\n",
       "14                  623     900\n",
       "15                 1046    5244\n",
       "16                 2402    7426\n",
       "17                   62     516\n",
       "18                  382    2743\n",
       "19                  451    1152\n",
       "20                  723    1827"
      ]
     },
     "execution_count": 38,
     "metadata": {},
     "output_type": "execute_result"
    }
   ],
   "source": [
    "# Create a pivot table to show the count of each product category for each Gender\n",
    "product_gender_counts = data.pivot_table(index='Product_Category', columns='Gender', aggfunc='size', fill_value=0)\n",
    "product_gender_counts"
   ]
  },
  {
   "cell_type": "markdown",
   "id": "81dd2b98",
   "metadata": {},
   "source": [
    "#### Top 5 products by Gender"
   ]
  },
  {
   "cell_type": "code",
   "execution_count": 39,
   "id": "73bcd9c8",
   "metadata": {},
   "outputs": [],
   "source": [
    "top_5_products = data['Product_Category'].value_counts().head(5).index\n",
    "filtered_df = data[data['Product_Category'].isin(top_5_products)]"
   ]
  },
  {
   "cell_type": "code",
   "execution_count": 40,
   "id": "ce2fabe4",
   "metadata": {},
   "outputs": [
    {
     "data": {
      "image/png": "[encoded data removed]",
      "text/plain": [
       "<Figure size 864x432 with 1 Axes>"
      ]
     },
     "metadata": {
      "needs_background": "light"
     },
     "output_type": "display_data"
    }
   ],
   "source": [
    "plt.figure(figsize=(12, 6))\n",
    "sns.countplot(data=filtered_df, x='Product_Category', hue='Gender')\n",
    "plt.title('Top 5 Product Categories Purchased by Gender')\n",
    "plt.show()"
   ]
  },
  {
   "cell_type": "code",
   "execution_count": 41,
   "id": "067eecea",
   "metadata": {},
   "outputs": [
    {
     "data": {
      "image/png": "[encoded data removed]",
      "text/plain": [
       "<Figure size 864x432 with 1 Axes>"
      ]
     },
     "metadata": {
      "needs_background": "light"
     },
     "output_type": "display_data"
    }
   ],
   "source": [
    "top_5_counts_gender = filtered_df.pivot_table(index='Product_Category', columns='Gender', aggfunc='size', fill_value=0)\n",
    "top_5_counts_gender.plot(kind='bar', stacked=True, figsize=(12, 6))\n",
    "plt.title('Stacked Bar Chart of Top 5 Product Categories by Gender')\n",
    "plt.xlabel('Product Category')\n",
    "plt.ylabel('Count')\n",
    "plt.show()"
   ]
  },
  {
   "cell_type": "code",
   "execution_count": 42,
   "id": "66b2db8a",
   "metadata": {},
   "outputs": [
    {
     "data": {
      "text/html": [
       "<div>\n",
       "<style scoped>\n",
       "    .dataframe tbody tr th:only-of-type {\n",
       "        vertical-align: middle;\n",
       "    }\n",
       "\n",
       "    .dataframe tbody tr th {\n",
       "        vertical-align: top;\n",
       "    }\n",
       "\n",
       "    .dataframe thead th {\n",
       "        text-align: right;\n",
       "    }\n",
       "</style>\n",
       "<table border=\"1\" class=\"dataframe\">\n",
       "  <thead>\n",
       "    <tr style=\"text-align: right;\">\n",
       "      <th>Gender</th>\n",
       "      <th>F</th>\n",
       "      <th>M</th>\n",
       "    </tr>\n",
       "    <tr>\n",
       "      <th>Product_Category</th>\n",
       "      <th></th>\n",
       "      <th></th>\n",
       "    </tr>\n",
       "  </thead>\n",
       "  <tbody>\n",
       "    <tr>\n",
       "      <th>1</th>\n",
       "      <td>24831</td>\n",
       "      <td>115547</td>\n",
       "    </tr>\n",
       "    <tr>\n",
       "      <th>2</th>\n",
       "      <td>5658</td>\n",
       "      <td>18206</td>\n",
       "    </tr>\n",
       "    <tr>\n",
       "      <th>5</th>\n",
       "      <td>41961</td>\n",
       "      <td>108972</td>\n",
       "    </tr>\n",
       "    <tr>\n",
       "      <th>8</th>\n",
       "      <td>33558</td>\n",
       "      <td>80367</td>\n",
       "    </tr>\n",
       "    <tr>\n",
       "      <th>11</th>\n",
       "      <td>4739</td>\n",
       "      <td>19548</td>\n",
       "    </tr>\n",
       "  </tbody>\n",
       "</table>\n",
       "</div>"
      ],
      "text/plain": [
       "Gender                F       M\n",
       "Product_Category               \n",
       "1                 24831  115547\n",
       "2                  5658   18206\n",
       "5                 41961  108972\n",
       "8                 33558   80367\n",
       "11                 4739   19548"
      ]
     },
     "execution_count": 42,
     "metadata": {},
     "output_type": "execute_result"
    }
   ],
   "source": [
    "top_5_counts_gender"
   ]
  },
  {
   "cell_type": "markdown",
   "id": "a2603f92",
   "metadata": {},
   "source": [
    "### Age vs Purchase Amount"
   ]
  },
  {
   "cell_type": "code",
   "execution_count": 43,
   "id": "af8e96ab",
   "metadata": {},
   "outputs": [],
   "source": [
    "# Calculate the average purchase amount for each age group\n",
    "avg_purchase_by_age = data.groupby('Age')['Purchase'].mean().reset_index()"
   ]
  },
  {
   "cell_type": "code",
   "execution_count": 44,
   "id": "67c94de7",
   "metadata": {},
   "outputs": [
    {
     "data": {
      "text/html": [
       "<div>\n",
       "<style scoped>\n",
       "    .dataframe tbody tr th:only-of-type {\n",
       "        vertical-align: middle;\n",
       "    }\n",
       "\n",
       "    .dataframe tbody tr th {\n",
       "        vertical-align: top;\n",
       "    }\n",
       "\n",
       "    .dataframe thead th {\n",
       "        text-align: right;\n",
       "    }\n",
       "</style>\n",
       "<table border=\"1\" class=\"dataframe\">\n",
       "  <thead>\n",
       "    <tr style=\"text-align: right;\">\n",
       "      <th></th>\n",
       "      <th>Age</th>\n",
       "      <th>Purchase</th>\n",
       "    </tr>\n",
       "  </thead>\n",
       "  <tbody>\n",
       "    <tr>\n",
       "      <th>5</th>\n",
       "      <td>51-55</td>\n",
       "      <td>9534.808031</td>\n",
       "    </tr>\n",
       "    <tr>\n",
       "      <th>6</th>\n",
       "      <td>55+</td>\n",
       "      <td>9336.280459</td>\n",
       "    </tr>\n",
       "    <tr>\n",
       "      <th>3</th>\n",
       "      <td>36-45</td>\n",
       "      <td>9331.350695</td>\n",
       "    </tr>\n",
       "    <tr>\n",
       "      <th>2</th>\n",
       "      <td>26-35</td>\n",
       "      <td>9252.690633</td>\n",
       "    </tr>\n",
       "    <tr>\n",
       "      <th>4</th>\n",
       "      <td>46-50</td>\n",
       "      <td>9208.625697</td>\n",
       "    </tr>\n",
       "    <tr>\n",
       "      <th>1</th>\n",
       "      <td>18-25</td>\n",
       "      <td>9169.663606</td>\n",
       "    </tr>\n",
       "    <tr>\n",
       "      <th>0</th>\n",
       "      <td>0-17</td>\n",
       "      <td>8933.464640</td>\n",
       "    </tr>\n",
       "  </tbody>\n",
       "</table>\n",
       "</div>"
      ],
      "text/plain": [
       "     Age     Purchase\n",
       "5  51-55  9534.808031\n",
       "6    55+  9336.280459\n",
       "3  36-45  9331.350695\n",
       "2  26-35  9252.690633\n",
       "4  46-50  9208.625697\n",
       "1  18-25  9169.663606\n",
       "0   0-17  8933.464640"
      ]
     },
     "execution_count": 44,
     "metadata": {},
     "output_type": "execute_result"
    }
   ],
   "source": [
    "avg_purchase_by_age = avg_purchase_by_age.sort_values(by='Purchase', ascending=False)\n",
    "avg_purchase_by_age"
   ]
  },
  {
   "cell_type": "code",
   "execution_count": 45,
   "id": "2329eda6",
   "metadata": {},
   "outputs": [
    {
     "data": {
      "image/png": "[encoded data removed]",
      "text/plain": [
       "<Figure size 720x432 with 1 Axes>"
      ]
     },
     "metadata": {
      "needs_background": "light"
     },
     "output_type": "display_data"
    }
   ],
   "source": [
    "# Plotting\n",
    "plt.figure(figsize=(10, 6))\n",
    "sns.barplot(x='Age', y='Purchase', data=avg_purchase_by_age, palette='viridis')\n",
    "plt.title('Average Purchase Amount by Age Group')\n",
    "plt.xlabel('Age Group')\n",
    "plt.ylabel('Average Purchase Amount')\n",
    "plt.show()"
   ]
  },
  {
   "cell_type": "code",
   "execution_count": 46,
   "id": "67d49ca0",
   "metadata": {},
   "outputs": [
    {
     "data": {
      "image/png": "[encoded data removed]",
      "text/plain": [
       "<Figure size 720x432 with 1 Axes>"
      ]
     },
     "metadata": {
      "needs_background": "light"
     },
     "output_type": "display_data"
    }
   ],
   "source": [
    "# Plot the box plot\n",
    "plt.figure(figsize=(10, 6))\n",
    "sns.boxplot(x='Age', y='Purchase', data=data, palette='Set2')\n",
    "plt.title('Box Plot of Purchase Amount by Age')\n",
    "plt.xlabel('Age')\n",
    "plt.ylabel('Purchase Amount')\n",
    "plt.show()"
   ]
  },
  {
   "cell_type": "code",
   "execution_count": 47,
   "id": "80096918",
   "metadata": {},
   "outputs": [
    {
     "data": {
      "image/png": "[encoded data removed]",
      "text/plain": [
       "<Figure size 720x432 with 1 Axes>"
      ]
     },
     "metadata": {
      "needs_background": "light"
     },
     "output_type": "display_data"
    }
   ],
   "source": [
    "# Plot the box plot\n",
    "plt.figure(figsize=(10, 6))\n",
    "sns.boxplot(x='Age', y='Purchase_clipped', data=data, palette='Set2')\n",
    "plt.title('Box Plot of Clipped Purchase Amount by Age')\n",
    "plt.xlabel('Age')\n",
    "plt.ylabel('Clipped Purchase Amount')\n",
    "plt.show()"
   ]
  },
  {
   "cell_type": "markdown",
   "id": "2019769e",
   "metadata": {},
   "source": [
    "### Age and Product Category"
   ]
  },
  {
   "cell_type": "code",
   "execution_count": 48,
   "id": "320286ca",
   "metadata": {},
   "outputs": [
    {
     "data": {
      "image/png": "[encoded data removed]",
      "text/plain": [
       "<Figure size 1440x576 with 1 Axes>"
      ]
     },
     "metadata": {
      "needs_background": "light"
     },
     "output_type": "display_data"
    }
   ],
   "source": [
    "# Plot count plot for product categories and age groups\n",
    "plt.figure(figsize=(20, 8))\n",
    "sns.countplot(data=data, x='Product_Category', hue='Age', palette='Set1')\n",
    "plt.title('Product Categories Bought by Different Age Groups')\n",
    "plt.xlabel('Product Category')\n",
    "plt.ylabel('Count')\n",
    "plt.show()"
   ]
  },
  {
   "cell_type": "code",
   "execution_count": 49,
   "id": "f11d8ef7",
   "metadata": {},
   "outputs": [
    {
     "data": {
      "image/png": "[encoded data removed]",
      "text/plain": [
       "<Figure size 1008x576 with 1 Axes>"
      ]
     },
     "metadata": {
      "needs_background": "light"
     },
     "output_type": "display_data"
    }
   ],
   "source": [
    "# Get the count of each product category for each age group\n",
    "product_age_counts = data.groupby(['Product_Category', 'Age']).size().unstack(fill_value=0)\n",
    "\n",
    "# Plot the stacked bar chart\n",
    "product_age_counts.plot(kind='bar', stacked=True, figsize=(14, 8), colormap='Set1')\n",
    "plt.title('Product Categories Bought by Different Age Groups')\n",
    "plt.xlabel('Product Category')\n",
    "plt.ylabel('Count')\n",
    "plt.legend(title='Age Group')\n",
    "plt.show()"
   ]
  },
  {
   "cell_type": "code",
   "execution_count": 50,
   "id": "27025a54",
   "metadata": {},
   "outputs": [
    {
     "data": {
      "text/html": [
       "<div>\n",
       "<style scoped>\n",
       "    .dataframe tbody tr th:only-of-type {\n",
       "        vertical-align: middle;\n",
       "    }\n",
       "\n",
       "    .dataframe tbody tr th {\n",
       "        vertical-align: top;\n",
       "    }\n",
       "\n",
       "    .dataframe thead th {\n",
       "        text-align: right;\n",
       "    }\n",
       "</style>\n",
       "<table border=\"1\" class=\"dataframe\">\n",
       "  <thead>\n",
       "    <tr style=\"text-align: right;\">\n",
       "      <th>Age</th>\n",
       "      <th>0-17</th>\n",
       "      <th>18-25</th>\n",
       "      <th>26-35</th>\n",
       "      <th>36-45</th>\n",
       "      <th>46-50</th>\n",
       "      <th>51-55</th>\n",
       "      <th>55+</th>\n",
       "    </tr>\n",
       "    <tr>\n",
       "      <th>Product_Category</th>\n",
       "      <th></th>\n",
       "      <th></th>\n",
       "      <th></th>\n",
       "      <th></th>\n",
       "      <th></th>\n",
       "      <th></th>\n",
       "      <th></th>\n",
       "    </tr>\n",
       "  </thead>\n",
       "  <tbody>\n",
       "    <tr>\n",
       "      <th>1</th>\n",
       "      <td>3585</td>\n",
       "      <td>26962</td>\n",
       "      <td>58249</td>\n",
       "      <td>27648</td>\n",
       "      <td>10474</td>\n",
       "      <td>9049</td>\n",
       "      <td>4411</td>\n",
       "    </tr>\n",
       "    <tr>\n",
       "      <th>2</th>\n",
       "      <td>805</td>\n",
       "      <td>4428</td>\n",
       "      <td>8928</td>\n",
       "      <td>4912</td>\n",
       "      <td>2105</td>\n",
       "      <td>1781</td>\n",
       "      <td>905</td>\n",
       "    </tr>\n",
       "    <tr>\n",
       "      <th>3</th>\n",
       "      <td>1200</td>\n",
       "      <td>4710</td>\n",
       "      <td>7662</td>\n",
       "      <td>3854</td>\n",
       "      <td>1376</td>\n",
       "      <td>924</td>\n",
       "      <td>487</td>\n",
       "    </tr>\n",
       "    <tr>\n",
       "      <th>4</th>\n",
       "      <td>758</td>\n",
       "      <td>2463</td>\n",
       "      <td>4192</td>\n",
       "      <td>2354</td>\n",
       "      <td>990</td>\n",
       "      <td>678</td>\n",
       "      <td>318</td>\n",
       "    </tr>\n",
       "    <tr>\n",
       "      <th>5</th>\n",
       "      <td>4330</td>\n",
       "      <td>28522</td>\n",
       "      <td>61473</td>\n",
       "      <td>29377</td>\n",
       "      <td>11971</td>\n",
       "      <td>9893</td>\n",
       "      <td>5367</td>\n",
       "    </tr>\n",
       "    <tr>\n",
       "      <th>6</th>\n",
       "      <td>399</td>\n",
       "      <td>3749</td>\n",
       "      <td>8485</td>\n",
       "      <td>3899</td>\n",
       "      <td>1622</td>\n",
       "      <td>1450</td>\n",
       "      <td>862</td>\n",
       "    </tr>\n",
       "    <tr>\n",
       "      <th>7</th>\n",
       "      <td>53</td>\n",
       "      <td>481</td>\n",
       "      <td>1651</td>\n",
       "      <td>809</td>\n",
       "      <td>327</td>\n",
       "      <td>266</td>\n",
       "      <td>134</td>\n",
       "    </tr>\n",
       "    <tr>\n",
       "      <th>8</th>\n",
       "      <td>2258</td>\n",
       "      <td>17911</td>\n",
       "      <td>44256</td>\n",
       "      <td>23296</td>\n",
       "      <td>10656</td>\n",
       "      <td>9340</td>\n",
       "      <td>6208</td>\n",
       "    </tr>\n",
       "    <tr>\n",
       "      <th>9</th>\n",
       "      <td>16</td>\n",
       "      <td>63</td>\n",
       "      <td>154</td>\n",
       "      <td>107</td>\n",
       "      <td>33</td>\n",
       "      <td>29</td>\n",
       "      <td>8</td>\n",
       "    </tr>\n",
       "    <tr>\n",
       "      <th>10</th>\n",
       "      <td>111</td>\n",
       "      <td>603</td>\n",
       "      <td>1787</td>\n",
       "      <td>1235</td>\n",
       "      <td>520</td>\n",
       "      <td>519</td>\n",
       "      <td>350</td>\n",
       "    </tr>\n",
       "    <tr>\n",
       "      <th>11</th>\n",
       "      <td>740</td>\n",
       "      <td>4597</td>\n",
       "      <td>9874</td>\n",
       "      <td>4953</td>\n",
       "      <td>2104</td>\n",
       "      <td>1458</td>\n",
       "      <td>561</td>\n",
       "    </tr>\n",
       "    <tr>\n",
       "      <th>12</th>\n",
       "      <td>125</td>\n",
       "      <td>439</td>\n",
       "      <td>1096</td>\n",
       "      <td>994</td>\n",
       "      <td>520</td>\n",
       "      <td>433</td>\n",
       "      <td>340</td>\n",
       "    </tr>\n",
       "    <tr>\n",
       "      <th>13</th>\n",
       "      <td>112</td>\n",
       "      <td>756</td>\n",
       "      <td>2096</td>\n",
       "      <td>1250</td>\n",
       "      <td>551</td>\n",
       "      <td>483</td>\n",
       "      <td>301</td>\n",
       "    </tr>\n",
       "    <tr>\n",
       "      <th>14</th>\n",
       "      <td>39</td>\n",
       "      <td>230</td>\n",
       "      <td>564</td>\n",
       "      <td>312</td>\n",
       "      <td>149</td>\n",
       "      <td>154</td>\n",
       "      <td>75</td>\n",
       "    </tr>\n",
       "    <tr>\n",
       "      <th>15</th>\n",
       "      <td>160</td>\n",
       "      <td>1024</td>\n",
       "      <td>2372</td>\n",
       "      <td>1395</td>\n",
       "      <td>602</td>\n",
       "      <td>508</td>\n",
       "      <td>229</td>\n",
       "    </tr>\n",
       "    <tr>\n",
       "      <th>16</th>\n",
       "      <td>229</td>\n",
       "      <td>1598</td>\n",
       "      <td>4118</td>\n",
       "      <td>1955</td>\n",
       "      <td>879</td>\n",
       "      <td>672</td>\n",
       "      <td>377</td>\n",
       "    </tr>\n",
       "    <tr>\n",
       "      <th>17</th>\n",
       "      <td>6</td>\n",
       "      <td>41</td>\n",
       "      <td>127</td>\n",
       "      <td>135</td>\n",
       "      <td>95</td>\n",
       "      <td>107</td>\n",
       "      <td>67</td>\n",
       "    </tr>\n",
       "    <tr>\n",
       "      <th>18</th>\n",
       "      <td>27</td>\n",
       "      <td>339</td>\n",
       "      <td>1042</td>\n",
       "      <td>702</td>\n",
       "      <td>351</td>\n",
       "      <td>423</td>\n",
       "      <td>241</td>\n",
       "    </tr>\n",
       "    <tr>\n",
       "      <th>19</th>\n",
       "      <td>59</td>\n",
       "      <td>275</td>\n",
       "      <td>563</td>\n",
       "      <td>320</td>\n",
       "      <td>149</td>\n",
       "      <td>134</td>\n",
       "      <td>103</td>\n",
       "    </tr>\n",
       "    <tr>\n",
       "      <th>20</th>\n",
       "      <td>90</td>\n",
       "      <td>469</td>\n",
       "      <td>898</td>\n",
       "      <td>506</td>\n",
       "      <td>227</td>\n",
       "      <td>200</td>\n",
       "      <td>160</td>\n",
       "    </tr>\n",
       "  </tbody>\n",
       "</table>\n",
       "</div>"
      ],
      "text/plain": [
       "Age               0-17  18-25  26-35  36-45  46-50  51-55   55+\n",
       "Product_Category                                               \n",
       "1                 3585  26962  58249  27648  10474   9049  4411\n",
       "2                  805   4428   8928   4912   2105   1781   905\n",
       "3                 1200   4710   7662   3854   1376    924   487\n",
       "4                  758   2463   4192   2354    990    678   318\n",
       "5                 4330  28522  61473  29377  11971   9893  5367\n",
       "6                  399   3749   8485   3899   1622   1450   862\n",
       "7                   53    481   1651    809    327    266   134\n",
       "8                 2258  17911  44256  23296  10656   9340  6208\n",
       "9                   16     63    154    107     33     29     8\n",
       "10                 111    603   1787   1235    520    519   350\n",
       "11                 740   4597   9874   4953   2104   1458   561\n",
       "12                 125    439   1096    994    520    433   340\n",
       "13                 112    756   2096   1250    551    483   301\n",
       "14                  39    230    564    312    149    154    75\n",
       "15                 160   1024   2372   1395    602    508   229\n",
       "16                 229   1598   4118   1955    879    672   377\n",
       "17                   6     41    127    135     95    107    67\n",
       "18                  27    339   1042    702    351    423   241\n",
       "19                  59    275    563    320    149    134   103\n",
       "20                  90    469    898    506    227    200   160"
      ]
     },
     "execution_count": 50,
     "metadata": {},
     "output_type": "execute_result"
    }
   ],
   "source": [
    "# Create a pivot table to show the count of each product category for each age group\n",
    "product_age_counts = data.pivot_table(index='Product_Category', columns='Age', aggfunc='size', fill_value=0)\n",
    "product_age_counts"
   ]
  },
  {
   "cell_type": "markdown",
   "id": "51738491",
   "metadata": {},
   "source": [
    "#### Top 5 products by Age"
   ]
  },
  {
   "cell_type": "code",
   "execution_count": 51,
   "id": "9678d3a5",
   "metadata": {},
   "outputs": [],
   "source": [
    "top_5_products = data['Product_Category'].value_counts().head(5).index\n",
    "filtered_df = data[data['Product_Category'].isin(top_5_products)]"
   ]
  },
  {
   "cell_type": "code",
   "execution_count": 52,
   "id": "5c3e1426",
   "metadata": {},
   "outputs": [
    {
     "data": {
      "image/png": "[encoded data removed]",
      "text/plain": [
       "<Figure size 864x432 with 1 Axes>"
      ]
     },
     "metadata": {
      "needs_background": "light"
     },
     "output_type": "display_data"
    }
   ],
   "source": [
    "plt.figure(figsize=(12, 6))\n",
    "sns.countplot(data=filtered_df, x='Product_Category', hue='Age')\n",
    "plt.title('Top 5 Product Categories Purchased by Age Group')\n",
    "plt.show()"
   ]
  },
  {
   "cell_type": "code",
   "execution_count": 53,
   "id": "95e5b894",
   "metadata": {},
   "outputs": [
    {
     "data": {
      "image/png": "[encoded data removed]",
      "text/plain": [
       "<Figure size 864x432 with 1 Axes>"
      ]
     },
     "metadata": {
      "needs_background": "light"
     },
     "output_type": "display_data"
    }
   ],
   "source": [
    "top_5_counts_age = filtered_df.pivot_table(index='Product_Category', columns='Age', aggfunc='size', fill_value=0)\n",
    "top_5_counts_age.plot(kind='bar', stacked=True, figsize=(12, 6))\n",
    "plt.title('Stacked Bar Chart of Top 5 Product Categories by Age Group')\n",
    "plt.xlabel('Product Category')\n",
    "plt.ylabel('Count')\n",
    "plt.show()"
   ]
  },
  {
   "cell_type": "code",
   "execution_count": 54,
   "id": "53d027be",
   "metadata": {},
   "outputs": [
    {
     "data": {
      "text/html": [
       "<div>\n",
       "<style scoped>\n",
       "    .dataframe tbody tr th:only-of-type {\n",
       "        vertical-align: middle;\n",
       "    }\n",
       "\n",
       "    .dataframe tbody tr th {\n",
       "        vertical-align: top;\n",
       "    }\n",
       "\n",
       "    .dataframe thead th {\n",
       "        text-align: right;\n",
       "    }\n",
       "</style>\n",
       "<table border=\"1\" class=\"dataframe\">\n",
       "  <thead>\n",
       "    <tr style=\"text-align: right;\">\n",
       "      <th>Age</th>\n",
       "      <th>0-17</th>\n",
       "      <th>18-25</th>\n",
       "      <th>26-35</th>\n",
       "      <th>36-45</th>\n",
       "      <th>46-50</th>\n",
       "      <th>51-55</th>\n",
       "      <th>55+</th>\n",
       "    </tr>\n",
       "    <tr>\n",
       "      <th>Product_Category</th>\n",
       "      <th></th>\n",
       "      <th></th>\n",
       "      <th></th>\n",
       "      <th></th>\n",
       "      <th></th>\n",
       "      <th></th>\n",
       "      <th></th>\n",
       "    </tr>\n",
       "  </thead>\n",
       "  <tbody>\n",
       "    <tr>\n",
       "      <th>1</th>\n",
       "      <td>3585</td>\n",
       "      <td>26962</td>\n",
       "      <td>58249</td>\n",
       "      <td>27648</td>\n",
       "      <td>10474</td>\n",
       "      <td>9049</td>\n",
       "      <td>4411</td>\n",
       "    </tr>\n",
       "    <tr>\n",
       "      <th>2</th>\n",
       "      <td>805</td>\n",
       "      <td>4428</td>\n",
       "      <td>8928</td>\n",
       "      <td>4912</td>\n",
       "      <td>2105</td>\n",
       "      <td>1781</td>\n",
       "      <td>905</td>\n",
       "    </tr>\n",
       "    <tr>\n",
       "      <th>5</th>\n",
       "      <td>4330</td>\n",
       "      <td>28522</td>\n",
       "      <td>61473</td>\n",
       "      <td>29377</td>\n",
       "      <td>11971</td>\n",
       "      <td>9893</td>\n",
       "      <td>5367</td>\n",
       "    </tr>\n",
       "    <tr>\n",
       "      <th>8</th>\n",
       "      <td>2258</td>\n",
       "      <td>17911</td>\n",
       "      <td>44256</td>\n",
       "      <td>23296</td>\n",
       "      <td>10656</td>\n",
       "      <td>9340</td>\n",
       "      <td>6208</td>\n",
       "    </tr>\n",
       "    <tr>\n",
       "      <th>11</th>\n",
       "      <td>740</td>\n",
       "      <td>4597</td>\n",
       "      <td>9874</td>\n",
       "      <td>4953</td>\n",
       "      <td>2104</td>\n",
       "      <td>1458</td>\n",
       "      <td>561</td>\n",
       "    </tr>\n",
       "  </tbody>\n",
       "</table>\n",
       "</div>"
      ],
      "text/plain": [
       "Age               0-17  18-25  26-35  36-45  46-50  51-55   55+\n",
       "Product_Category                                               \n",
       "1                 3585  26962  58249  27648  10474   9049  4411\n",
       "2                  805   4428   8928   4912   2105   1781   905\n",
       "5                 4330  28522  61473  29377  11971   9893  5367\n",
       "8                 2258  17911  44256  23296  10656   9340  6208\n",
       "11                 740   4597   9874   4953   2104   1458   561"
      ]
     },
     "execution_count": 54,
     "metadata": {},
     "output_type": "execute_result"
    }
   ],
   "source": [
    "top_5_counts_age"
   ]
  },
  {
   "cell_type": "markdown",
   "id": "a34a9761",
   "metadata": {},
   "source": [
    "### City Category vs Purchase Amount"
   ]
  },
  {
   "cell_type": "code",
   "execution_count": 55,
   "id": "5b62a663",
   "metadata": {},
   "outputs": [],
   "source": [
    "# Calculate the average purchase amount for each city category\n",
    "avg_purchase_by_City_Category = data.groupby('City_Category')['Purchase'].mean().reset_index()"
   ]
  },
  {
   "cell_type": "code",
   "execution_count": 56,
   "id": "73a6ae06",
   "metadata": {},
   "outputs": [
    {
     "data": {
      "text/html": [
       "<div>\n",
       "<style scoped>\n",
       "    .dataframe tbody tr th:only-of-type {\n",
       "        vertical-align: middle;\n",
       "    }\n",
       "\n",
       "    .dataframe tbody tr th {\n",
       "        vertical-align: top;\n",
       "    }\n",
       "\n",
       "    .dataframe thead th {\n",
       "        text-align: right;\n",
       "    }\n",
       "</style>\n",
       "<table border=\"1\" class=\"dataframe\">\n",
       "  <thead>\n",
       "    <tr style=\"text-align: right;\">\n",
       "      <th></th>\n",
       "      <th>City_Category</th>\n",
       "      <th>Purchase</th>\n",
       "    </tr>\n",
       "  </thead>\n",
       "  <tbody>\n",
       "    <tr>\n",
       "      <th>2</th>\n",
       "      <td>C</td>\n",
       "      <td>9719.920993</td>\n",
       "    </tr>\n",
       "    <tr>\n",
       "      <th>1</th>\n",
       "      <td>B</td>\n",
       "      <td>9151.300563</td>\n",
       "    </tr>\n",
       "    <tr>\n",
       "      <th>0</th>\n",
       "      <td>A</td>\n",
       "      <td>8911.939216</td>\n",
       "    </tr>\n",
       "  </tbody>\n",
       "</table>\n",
       "</div>"
      ],
      "text/plain": [
       "  City_Category     Purchase\n",
       "2             C  9719.920993\n",
       "1             B  9151.300563\n",
       "0             A  8911.939216"
      ]
     },
     "execution_count": 56,
     "metadata": {},
     "output_type": "execute_result"
    }
   ],
   "source": [
    "avg_purchase_by_City_Category = avg_purchase_by_City_Category.sort_values(by='Purchase', ascending=False)\n",
    "avg_purchase_by_City_Category"
   ]
  },
  {
   "cell_type": "code",
   "execution_count": 57,
   "id": "944d8058",
   "metadata": {},
   "outputs": [
    {
     "data": {
      "image/png": "[encoded data removed]",
      "text/plain": [
       "<Figure size 720x432 with 1 Axes>"
      ]
     },
     "metadata": {
      "needs_background": "light"
     },
     "output_type": "display_data"
    }
   ],
   "source": [
    "# Plotting\n",
    "plt.figure(figsize=(10, 6))\n",
    "sns.barplot(x='City_Category', y='Purchase', data=avg_purchase_by_City_Category, palette='viridis')\n",
    "plt.title('Average Purchase Amount by City Category')\n",
    "plt.xlabel('City Category')\n",
    "plt.ylabel('Average Purchase Amount')\n",
    "plt.show()"
   ]
  },
  {
   "cell_type": "markdown",
   "id": "c8609571",
   "metadata": {},
   "source": [
    "### Occupation vs Average Purchase Amount"
   ]
  },
  {
   "cell_type": "code",
   "execution_count": 58,
   "id": "ff8ee2ed",
   "metadata": {},
   "outputs": [],
   "source": [
    "# Calculate the average purchase amount for each occupation\n",
    "avg_purchase_by_occupation = data.groupby('Occupation')['Purchase'].mean().reset_index()"
   ]
  },
  {
   "cell_type": "code",
   "execution_count": 59,
   "id": "134e2a25",
   "metadata": {},
   "outputs": [
    {
     "data": {
      "text/html": [
       "<div>\n",
       "<style scoped>\n",
       "    .dataframe tbody tr th:only-of-type {\n",
       "        vertical-align: middle;\n",
       "    }\n",
       "\n",
       "    .dataframe tbody tr th {\n",
       "        vertical-align: top;\n",
       "    }\n",
       "\n",
       "    .dataframe thead th {\n",
       "        text-align: right;\n",
       "    }\n",
       "</style>\n",
       "<table border=\"1\" class=\"dataframe\">\n",
       "  <thead>\n",
       "    <tr style=\"text-align: right;\">\n",
       "      <th></th>\n",
       "      <th>Occupation</th>\n",
       "      <th>Purchase</th>\n",
       "    </tr>\n",
       "  </thead>\n",
       "  <tbody>\n",
       "    <tr>\n",
       "      <th>17</th>\n",
       "      <td>17</td>\n",
       "      <td>9821.478236</td>\n",
       "    </tr>\n",
       "    <tr>\n",
       "      <th>12</th>\n",
       "      <td>12</td>\n",
       "      <td>9796.640239</td>\n",
       "    </tr>\n",
       "    <tr>\n",
       "      <th>15</th>\n",
       "      <td>15</td>\n",
       "      <td>9778.891163</td>\n",
       "    </tr>\n",
       "    <tr>\n",
       "      <th>8</th>\n",
       "      <td>8</td>\n",
       "      <td>9532.592497</td>\n",
       "    </tr>\n",
       "    <tr>\n",
       "      <th>14</th>\n",
       "      <td>14</td>\n",
       "      <td>9500.702772</td>\n",
       "    </tr>\n",
       "    <tr>\n",
       "      <th>7</th>\n",
       "      <td>7</td>\n",
       "      <td>9425.728223</td>\n",
       "    </tr>\n",
       "    <tr>\n",
       "      <th>16</th>\n",
       "      <td>16</td>\n",
       "      <td>9394.464349</td>\n",
       "    </tr>\n",
       "    <tr>\n",
       "      <th>5</th>\n",
       "      <td>5</td>\n",
       "      <td>9333.149298</td>\n",
       "    </tr>\n",
       "    <tr>\n",
       "      <th>13</th>\n",
       "      <td>13</td>\n",
       "      <td>9306.351061</td>\n",
       "    </tr>\n",
       "    <tr>\n",
       "      <th>6</th>\n",
       "      <td>6</td>\n",
       "      <td>9256.535691</td>\n",
       "    </tr>\n",
       "    <tr>\n",
       "      <th>4</th>\n",
       "      <td>4</td>\n",
       "      <td>9213.980251</td>\n",
       "    </tr>\n",
       "    <tr>\n",
       "      <th>11</th>\n",
       "      <td>11</td>\n",
       "      <td>9213.845848</td>\n",
       "    </tr>\n",
       "    <tr>\n",
       "      <th>3</th>\n",
       "      <td>3</td>\n",
       "      <td>9178.593088</td>\n",
       "    </tr>\n",
       "    <tr>\n",
       "      <th>18</th>\n",
       "      <td>18</td>\n",
       "      <td>9169.655844</td>\n",
       "    </tr>\n",
       "    <tr>\n",
       "      <th>0</th>\n",
       "      <td>0</td>\n",
       "      <td>9124.428588</td>\n",
       "    </tr>\n",
       "    <tr>\n",
       "      <th>10</th>\n",
       "      <td>10</td>\n",
       "      <td>8959.355375</td>\n",
       "    </tr>\n",
       "    <tr>\n",
       "      <th>1</th>\n",
       "      <td>1</td>\n",
       "      <td>8953.193270</td>\n",
       "    </tr>\n",
       "    <tr>\n",
       "      <th>2</th>\n",
       "      <td>2</td>\n",
       "      <td>8952.481683</td>\n",
       "    </tr>\n",
       "    <tr>\n",
       "      <th>20</th>\n",
       "      <td>20</td>\n",
       "      <td>8836.494905</td>\n",
       "    </tr>\n",
       "    <tr>\n",
       "      <th>19</th>\n",
       "      <td>19</td>\n",
       "      <td>8710.627231</td>\n",
       "    </tr>\n",
       "    <tr>\n",
       "      <th>9</th>\n",
       "      <td>9</td>\n",
       "      <td>8637.743761</td>\n",
       "    </tr>\n",
       "  </tbody>\n",
       "</table>\n",
       "</div>"
      ],
      "text/plain": [
       "    Occupation     Purchase\n",
       "17          17  9821.478236\n",
       "12          12  9796.640239\n",
       "15          15  9778.891163\n",
       "8            8  9532.592497\n",
       "14          14  9500.702772\n",
       "7            7  9425.728223\n",
       "16          16  9394.464349\n",
       "5            5  9333.149298\n",
       "13          13  9306.351061\n",
       "6            6  9256.535691\n",
       "4            4  9213.980251\n",
       "11          11  9213.845848\n",
       "3            3  9178.593088\n",
       "18          18  9169.655844\n",
       "0            0  9124.428588\n",
       "10          10  8959.355375\n",
       "1            1  8953.193270\n",
       "2            2  8952.481683\n",
       "20          20  8836.494905\n",
       "19          19  8710.627231\n",
       "9            9  8637.743761"
      ]
     },
     "execution_count": 59,
     "metadata": {},
     "output_type": "execute_result"
    }
   ],
   "source": [
    "avg_purchase_by_occupation = avg_purchase_by_occupation.sort_values(by='Purchase', ascending=False)\n",
    "avg_purchase_by_occupation"
   ]
  },
  {
   "cell_type": "code",
   "execution_count": 60,
   "id": "08ebd1df",
   "metadata": {},
   "outputs": [
    {
     "data": {
      "image/png": "[encoded data removed]",
      "text/plain": [
       "<Figure size 1080x432 with 1 Axes>"
      ]
     },
     "metadata": {
      "needs_background": "light"
     },
     "output_type": "display_data"
    }
   ],
   "source": [
    "# Plotting\n",
    "plt.figure(figsize=(15, 6))\n",
    "sns.barplot(x='Occupation', y='Purchase', data=avg_purchase_by_occupation, palette='viridis')\n",
    "plt.title('Average Purchase Amount by Occupation')\n",
    "plt.xlabel('Occupation')\n",
    "plt.ylabel('Average Purchase Amount')\n",
    "plt.show()"
   ]
  },
  {
   "cell_type": "markdown",
   "id": "862f6890",
   "metadata": {},
   "source": [
    "### Current City Years vs Purchase Amount"
   ]
  },
  {
   "cell_type": "code",
   "execution_count": 61,
   "id": "a48c76f4",
   "metadata": {},
   "outputs": [],
   "source": [
    "# Calculate the average purchase amount for each ccy\n",
    "avg_purchase_by_ccy = data.groupby('Stay_In_Current_City_Years')['Purchase'].mean().reset_index()"
   ]
  },
  {
   "cell_type": "code",
   "execution_count": 62,
   "id": "226c10e3",
   "metadata": {},
   "outputs": [
    {
     "data": {
      "text/html": [
       "<div>\n",
       "<style scoped>\n",
       "    .dataframe tbody tr th:only-of-type {\n",
       "        vertical-align: middle;\n",
       "    }\n",
       "\n",
       "    .dataframe tbody tr th {\n",
       "        vertical-align: top;\n",
       "    }\n",
       "\n",
       "    .dataframe thead th {\n",
       "        text-align: right;\n",
       "    }\n",
       "</style>\n",
       "<table border=\"1\" class=\"dataframe\">\n",
       "  <thead>\n",
       "    <tr style=\"text-align: right;\">\n",
       "      <th></th>\n",
       "      <th>Stay_In_Current_City_Years</th>\n",
       "      <th>Purchase</th>\n",
       "    </tr>\n",
       "  </thead>\n",
       "  <tbody>\n",
       "    <tr>\n",
       "      <th>2</th>\n",
       "      <td>2</td>\n",
       "      <td>9320.429810</td>\n",
       "    </tr>\n",
       "    <tr>\n",
       "      <th>3</th>\n",
       "      <td>3</td>\n",
       "      <td>9286.904119</td>\n",
       "    </tr>\n",
       "    <tr>\n",
       "      <th>4</th>\n",
       "      <td>4+</td>\n",
       "      <td>9275.598872</td>\n",
       "    </tr>\n",
       "    <tr>\n",
       "      <th>1</th>\n",
       "      <td>1</td>\n",
       "      <td>9250.145923</td>\n",
       "    </tr>\n",
       "    <tr>\n",
       "      <th>0</th>\n",
       "      <td>0</td>\n",
       "      <td>9180.075123</td>\n",
       "    </tr>\n",
       "  </tbody>\n",
       "</table>\n",
       "</div>"
      ],
      "text/plain": [
       "  Stay_In_Current_City_Years     Purchase\n",
       "2                          2  9320.429810\n",
       "3                          3  9286.904119\n",
       "4                         4+  9275.598872\n",
       "1                          1  9250.145923\n",
       "0                          0  9180.075123"
      ]
     },
     "execution_count": 62,
     "metadata": {},
     "output_type": "execute_result"
    }
   ],
   "source": [
    "avg_purchase_by_ccy = avg_purchase_by_ccy.sort_values(by='Purchase', ascending=False)\n",
    "avg_purchase_by_ccy"
   ]
  },
  {
   "cell_type": "code",
   "execution_count": 63,
   "id": "2c3ac6c0",
   "metadata": {},
   "outputs": [
    {
     "data": {
      "image/png": "[encoded data removed]",
      "text/plain": [
       "<Figure size 720x432 with 1 Axes>"
      ]
     },
     "metadata": {
      "needs_background": "light"
     },
     "output_type": "display_data"
    }
   ],
   "source": [
    "# Plotting\n",
    "plt.figure(figsize=(10, 6))\n",
    "sns.barplot(x='Stay_In_Current_City_Years', y='Purchase', data=avg_purchase_by_ccy, palette='viridis')\n",
    "plt.title('Average Purchase Amount by Stay_In_Current_City_Years')\n",
    "plt.xlabel('Stay_In_Current_City_Years')\n",
    "plt.ylabel('Average Purchase Amount')\n",
    "plt.show()"
   ]
  },
  {
   "cell_type": "markdown",
   "id": "01ca7266",
   "metadata": {},
   "source": [
    "### Marital Status vs Purchase Amount"
   ]
  },
  {
   "cell_type": "code",
   "execution_count": 64,
   "id": "ec2a59b1",
   "metadata": {},
   "outputs": [],
   "source": [
    "# Calculate the average purchase amount by marital status\n",
    "avg_purchase_by_ms = data.groupby('Marital_Status')['Purchase'].mean().reset_index()"
   ]
  },
  {
   "cell_type": "code",
   "execution_count": 65,
   "id": "c702902f",
   "metadata": {},
   "outputs": [
    {
     "data": {
      "text/html": [
       "<div>\n",
       "<style scoped>\n",
       "    .dataframe tbody tr th:only-of-type {\n",
       "        vertical-align: middle;\n",
       "    }\n",
       "\n",
       "    .dataframe tbody tr th {\n",
       "        vertical-align: top;\n",
       "    }\n",
       "\n",
       "    .dataframe thead th {\n",
       "        text-align: right;\n",
       "    }\n",
       "</style>\n",
       "<table border=\"1\" class=\"dataframe\">\n",
       "  <thead>\n",
       "    <tr style=\"text-align: right;\">\n",
       "      <th></th>\n",
       "      <th>Marital_Status</th>\n",
       "      <th>Purchase</th>\n",
       "    </tr>\n",
       "  </thead>\n",
       "  <tbody>\n",
       "    <tr>\n",
       "      <th>0</th>\n",
       "      <td>0</td>\n",
       "      <td>9265.907619</td>\n",
       "    </tr>\n",
       "    <tr>\n",
       "      <th>1</th>\n",
       "      <td>1</td>\n",
       "      <td>9261.174574</td>\n",
       "    </tr>\n",
       "  </tbody>\n",
       "</table>\n",
       "</div>"
      ],
      "text/plain": [
       "   Marital_Status     Purchase\n",
       "0               0  9265.907619\n",
       "1               1  9261.174574"
      ]
     },
     "execution_count": 65,
     "metadata": {},
     "output_type": "execute_result"
    }
   ],
   "source": [
    "avg_purchase_by_ms = avg_purchase_by_ms.sort_values(by='Purchase', ascending=False)\n",
    "avg_purchase_by_ms"
   ]
  },
  {
   "cell_type": "code",
   "execution_count": 66,
   "id": "e3616d45",
   "metadata": {},
   "outputs": [
    {
     "data": {
      "image/png": "[encoded data removed]",
      "text/plain": [
       "<Figure size 576x432 with 1 Axes>"
      ]
     },
     "metadata": {
      "needs_background": "light"
     },
     "output_type": "display_data"
    }
   ],
   "source": [
    "# Plotting\n",
    "plt.figure(figsize=(8, 6))\n",
    "sns.barplot(x='Marital_Status', y='Purchase', data=avg_purchase_by_ms, palette='viridis')\n",
    "plt.title('Average Purchase Amount by Marital_Status')\n",
    "plt.xlabel('Marital_Status')\n",
    "plt.ylabel('Average Purchase Amount')\n",
    "plt.show()"
   ]
  },
  {
   "cell_type": "markdown",
   "id": "2f2b5eb1",
   "metadata": {},
   "source": [
    "### Product Category vs Purchase Amount"
   ]
  },
  {
   "cell_type": "code",
   "execution_count": 67,
   "id": "66694263",
   "metadata": {},
   "outputs": [],
   "source": [
    "# Calculate the average purchase amount by Product Category\n",
    "avg_purchase_by_Product_Category = data.groupby('Product_Category')['Purchase'].mean().reset_index()"
   ]
  },
  {
   "cell_type": "code",
   "execution_count": 68,
   "id": "39025955",
   "metadata": {},
   "outputs": [
    {
     "data": {
      "text/html": [
       "<div>\n",
       "<style scoped>\n",
       "    .dataframe tbody tr th:only-of-type {\n",
       "        vertical-align: middle;\n",
       "    }\n",
       "\n",
       "    .dataframe tbody tr th {\n",
       "        vertical-align: top;\n",
       "    }\n",
       "\n",
       "    .dataframe thead th {\n",
       "        text-align: right;\n",
       "    }\n",
       "</style>\n",
       "<table border=\"1\" class=\"dataframe\">\n",
       "  <thead>\n",
       "    <tr style=\"text-align: right;\">\n",
       "      <th></th>\n",
       "      <th>Product_Category</th>\n",
       "      <th>Purchase</th>\n",
       "    </tr>\n",
       "  </thead>\n",
       "  <tbody>\n",
       "    <tr>\n",
       "      <th>9</th>\n",
       "      <td>10</td>\n",
       "      <td>19675.570927</td>\n",
       "    </tr>\n",
       "    <tr>\n",
       "      <th>6</th>\n",
       "      <td>7</td>\n",
       "      <td>16365.689600</td>\n",
       "    </tr>\n",
       "    <tr>\n",
       "      <th>5</th>\n",
       "      <td>6</td>\n",
       "      <td>15838.478550</td>\n",
       "    </tr>\n",
       "    <tr>\n",
       "      <th>8</th>\n",
       "      <td>9</td>\n",
       "      <td>15537.375610</td>\n",
       "    </tr>\n",
       "    <tr>\n",
       "      <th>14</th>\n",
       "      <td>15</td>\n",
       "      <td>14780.451828</td>\n",
       "    </tr>\n",
       "    <tr>\n",
       "      <th>15</th>\n",
       "      <td>16</td>\n",
       "      <td>14766.037037</td>\n",
       "    </tr>\n",
       "    <tr>\n",
       "      <th>0</th>\n",
       "      <td>1</td>\n",
       "      <td>13606.218596</td>\n",
       "    </tr>\n",
       "    <tr>\n",
       "      <th>13</th>\n",
       "      <td>14</td>\n",
       "      <td>13141.625739</td>\n",
       "    </tr>\n",
       "    <tr>\n",
       "      <th>1</th>\n",
       "      <td>2</td>\n",
       "      <td>11251.935384</td>\n",
       "    </tr>\n",
       "    <tr>\n",
       "      <th>16</th>\n",
       "      <td>17</td>\n",
       "      <td>10170.759516</td>\n",
       "    </tr>\n",
       "    <tr>\n",
       "      <th>2</th>\n",
       "      <td>3</td>\n",
       "      <td>10096.705734</td>\n",
       "    </tr>\n",
       "    <tr>\n",
       "      <th>7</th>\n",
       "      <td>8</td>\n",
       "      <td>7498.958078</td>\n",
       "    </tr>\n",
       "    <tr>\n",
       "      <th>4</th>\n",
       "      <td>5</td>\n",
       "      <td>6240.088178</td>\n",
       "    </tr>\n",
       "    <tr>\n",
       "      <th>10</th>\n",
       "      <td>11</td>\n",
       "      <td>4685.268456</td>\n",
       "    </tr>\n",
       "    <tr>\n",
       "      <th>17</th>\n",
       "      <td>18</td>\n",
       "      <td>2972.864320</td>\n",
       "    </tr>\n",
       "    <tr>\n",
       "      <th>3</th>\n",
       "      <td>4</td>\n",
       "      <td>2329.659491</td>\n",
       "    </tr>\n",
       "    <tr>\n",
       "      <th>11</th>\n",
       "      <td>12</td>\n",
       "      <td>1350.859894</td>\n",
       "    </tr>\n",
       "    <tr>\n",
       "      <th>12</th>\n",
       "      <td>13</td>\n",
       "      <td>722.400613</td>\n",
       "    </tr>\n",
       "    <tr>\n",
       "      <th>19</th>\n",
       "      <td>20</td>\n",
       "      <td>370.481176</td>\n",
       "    </tr>\n",
       "    <tr>\n",
       "      <th>18</th>\n",
       "      <td>19</td>\n",
       "      <td>37.041797</td>\n",
       "    </tr>\n",
       "  </tbody>\n",
       "</table>\n",
       "</div>"
      ],
      "text/plain": [
       "    Product_Category      Purchase\n",
       "9                 10  19675.570927\n",
       "6                  7  16365.689600\n",
       "5                  6  15838.478550\n",
       "8                  9  15537.375610\n",
       "14                15  14780.451828\n",
       "15                16  14766.037037\n",
       "0                  1  13606.218596\n",
       "13                14  13141.625739\n",
       "1                  2  11251.935384\n",
       "16                17  10170.759516\n",
       "2                  3  10096.705734\n",
       "7                  8   7498.958078\n",
       "4                  5   6240.088178\n",
       "10                11   4685.268456\n",
       "17                18   2972.864320\n",
       "3                  4   2329.659491\n",
       "11                12   1350.859894\n",
       "12                13    722.400613\n",
       "19                20    370.481176\n",
       "18                19     37.041797"
      ]
     },
     "execution_count": 68,
     "metadata": {},
     "output_type": "execute_result"
    }
   ],
   "source": [
    "avg_purchase_by_Product_Category = avg_purchase_by_Product_Category.sort_values(by='Purchase', ascending=False)\n",
    "avg_purchase_by_Product_Category"
   ]
  },
  {
   "cell_type": "code",
   "execution_count": 69,
   "id": "0381a542",
   "metadata": {},
   "outputs": [
    {
     "data": {
      "image/png": "[encoded data removed]",
      "text/plain": [
       "<Figure size 1080x432 with 1 Axes>"
      ]
     },
     "metadata": {
      "needs_background": "light"
     },
     "output_type": "display_data"
    }
   ],
   "source": [
    "# Plotting\n",
    "plt.figure(figsize=(15, 6))\n",
    "sns.barplot(x='Product_Category', y='Purchase', data=avg_purchase_by_Product_Category, palette='viridis')\n",
    "plt.title('Average Purchase Amount by Product_Category')\n",
    "plt.xlabel('Product_Category')\n",
    "plt.ylabel('Average Purchase Amount')\n",
    "plt.show()"
   ]
  },
  {
   "cell_type": "markdown",
   "id": "17a81f7c",
   "metadata": {},
   "source": [
    "#### Observations\n",
    "- Average amount spent by males are more than females\n",
    "- People of Age group **`51-55`** spend the most, followed my **`55+`** and **`36-45`**\n",
    "- `City C` purchsed the most followed by `City B` and `City A`\n",
    "- Top 3 occupations with highest average purchase amount are `17`, `12` and `15`\n",
    "- People who stayed in the City for more than a year spend the most\n",
    "- The average purchase amount of married and unmarried people are similar\n",
    "- Product category `10` had the highest amount spent, followed by `7`, `6` and `9`"
   ]
  },
  {
   "cell_type": "markdown",
   "id": "3bafefa0",
   "metadata": {},
   "source": [
    "## Multivariate Analysis"
   ]
  },
  {
   "cell_type": "markdown",
   "id": "50d50bb6",
   "metadata": {},
   "source": [
    "### Relationship between Age, Marital Status and Purchase"
   ]
  },
  {
   "cell_type": "code",
   "execution_count": 70,
   "id": "73992157",
   "metadata": {},
   "outputs": [
    {
     "data": {
      "text/plain": [
       "<Figure size 1008x576 with 0 Axes>"
      ]
     },
     "metadata": {},
     "output_type": "display_data"
    },
    {
     "data": {
      "image/png": "[encoded data removed]",
      "text/plain": [
       "<Figure size 943.375x576 with 1 Axes>"
      ]
     },
     "metadata": {
      "needs_background": "light"
     },
     "output_type": "display_data"
    }
   ],
   "source": [
    "# Create a catplot for age, marital status, and purchase amount\n",
    "plt.figure(figsize=(14, 8))\n",
    "sns.catplot(x='Age', y='Purchase_clipped', hue='Marital_Status', kind='box', data=data, palette='Set2', height=8, aspect=1.5)\n",
    "plt.title('Relationship between Age, Marital Status, and Amount Spent')\n",
    "plt.xlabel('Age Group')\n",
    "plt.ylabel('Clipped Purchase Amount')\n",
    "plt.show()"
   ]
  },
  {
   "cell_type": "code",
   "execution_count": 71,
   "id": "bf682717",
   "metadata": {},
   "outputs": [
    {
     "data": {
      "text/html": [
       "<div>\n",
       "<style scoped>\n",
       "    .dataframe tbody tr th:only-of-type {\n",
       "        vertical-align: middle;\n",
       "    }\n",
       "\n",
       "    .dataframe tbody tr th {\n",
       "        vertical-align: top;\n",
       "    }\n",
       "\n",
       "    .dataframe thead th {\n",
       "        text-align: right;\n",
       "    }\n",
       "</style>\n",
       "<table border=\"1\" class=\"dataframe\">\n",
       "  <thead>\n",
       "    <tr style=\"text-align: right;\">\n",
       "      <th></th>\n",
       "      <th>Single</th>\n",
       "      <th>Married</th>\n",
       "    </tr>\n",
       "    <tr>\n",
       "      <th>Age</th>\n",
       "      <th></th>\n",
       "      <th></th>\n",
       "    </tr>\n",
       "  </thead>\n",
       "  <tbody>\n",
       "    <tr>\n",
       "      <th>0-17</th>\n",
       "      <td>8933.464640</td>\n",
       "      <td>NaN</td>\n",
       "    </tr>\n",
       "    <tr>\n",
       "      <th>18-25</th>\n",
       "      <td>9216.752419</td>\n",
       "      <td>8994.509992</td>\n",
       "    </tr>\n",
       "    <tr>\n",
       "      <th>26-35</th>\n",
       "      <td>9252.566484</td>\n",
       "      <td>9252.882410</td>\n",
       "    </tr>\n",
       "    <tr>\n",
       "      <th>36-45</th>\n",
       "      <td>9402.515329</td>\n",
       "      <td>9223.098451</td>\n",
       "    </tr>\n",
       "    <tr>\n",
       "      <th>46-50</th>\n",
       "      <td>8956.529551</td>\n",
       "      <td>9305.535821</td>\n",
       "    </tr>\n",
       "    <tr>\n",
       "      <th>51-55</th>\n",
       "      <td>9575.827475</td>\n",
       "      <td>9518.735088</td>\n",
       "    </tr>\n",
       "    <tr>\n",
       "      <th>55+</th>\n",
       "      <td>9539.774959</td>\n",
       "      <td>9218.510315</td>\n",
       "    </tr>\n",
       "  </tbody>\n",
       "</table>\n",
       "</div>"
      ],
      "text/plain": [
       "            Single      Married\n",
       "Age                            \n",
       "0-17   8933.464640          NaN\n",
       "18-25  9216.752419  8994.509992\n",
       "26-35  9252.566484  9252.882410\n",
       "36-45  9402.515329  9223.098451\n",
       "46-50  8956.529551  9305.535821\n",
       "51-55  9575.827475  9518.735088\n",
       "55+    9539.774959  9218.510315"
      ]
     },
     "execution_count": 71,
     "metadata": {},
     "output_type": "execute_result"
    }
   ],
   "source": [
    "# Create a pivot table to show the average purchase amount by age and marital status\n",
    "pivot_table = data.pivot_table(values='Purchase', index='Age', columns='Marital_Status', aggfunc='mean')\n",
    "\n",
    "# Rename the columns for better understanding\n",
    "pivot_table.columns = ['Single', 'Married']\n",
    "\n",
    "# Display the pivot table\n",
    "pivot_table"
   ]
  },
  {
   "cell_type": "markdown",
   "id": "4b53c3c1",
   "metadata": {},
   "source": [
    "### Relationship between Age, Product Category and Purchase"
   ]
  },
  {
   "cell_type": "code",
   "execution_count": 72,
   "id": "f7f3bbaa",
   "metadata": {},
   "outputs": [
    {
     "data": {
      "text/html": [
       "<div>\n",
       "<style scoped>\n",
       "    .dataframe tbody tr th:only-of-type {\n",
       "        vertical-align: middle;\n",
       "    }\n",
       "\n",
       "    .dataframe tbody tr th {\n",
       "        vertical-align: top;\n",
       "    }\n",
       "\n",
       "    .dataframe thead th {\n",
       "        text-align: right;\n",
       "    }\n",
       "</style>\n",
       "<table border=\"1\" class=\"dataframe\">\n",
       "  <thead>\n",
       "    <tr style=\"text-align: right;\">\n",
       "      <th>Age</th>\n",
       "      <th>0-17</th>\n",
       "      <th>18-25</th>\n",
       "      <th>26-35</th>\n",
       "      <th>36-45</th>\n",
       "      <th>46-50</th>\n",
       "      <th>51-55</th>\n",
       "      <th>55+</th>\n",
       "    </tr>\n",
       "    <tr>\n",
       "      <th>Product_Category</th>\n",
       "      <th></th>\n",
       "      <th></th>\n",
       "      <th></th>\n",
       "      <th></th>\n",
       "      <th></th>\n",
       "      <th></th>\n",
       "      <th></th>\n",
       "    </tr>\n",
       "  </thead>\n",
       "  <tbody>\n",
       "    <tr>\n",
       "      <th>1</th>\n",
       "      <td>13607.600279</td>\n",
       "      <td>13448.852904</td>\n",
       "      <td>13456.256056</td>\n",
       "      <td>13767.068287</td>\n",
       "      <td>13778.098148</td>\n",
       "      <td>14125.773014</td>\n",
       "      <td>14065.121741</td>\n",
       "    </tr>\n",
       "    <tr>\n",
       "      <th>2</th>\n",
       "      <td>10851.982609</td>\n",
       "      <td>10966.741870</td>\n",
       "      <td>11083.914427</td>\n",
       "      <td>11375.946254</td>\n",
       "      <td>11479.071734</td>\n",
       "      <td>11901.649635</td>\n",
       "      <td>12180.648619</td>\n",
       "    </tr>\n",
       "    <tr>\n",
       "      <th>3</th>\n",
       "      <td>9431.505000</td>\n",
       "      <td>9871.727601</td>\n",
       "      <td>10154.785043</td>\n",
       "      <td>10340.294240</td>\n",
       "      <td>10261.654797</td>\n",
       "      <td>10327.424242</td>\n",
       "      <td>10166.398357</td>\n",
       "    </tr>\n",
       "    <tr>\n",
       "      <th>4</th>\n",
       "      <td>2244.659631</td>\n",
       "      <td>2194.358912</td>\n",
       "      <td>2340.182729</td>\n",
       "      <td>2400.508496</td>\n",
       "      <td>2420.013131</td>\n",
       "      <td>2445.980826</td>\n",
       "      <td>2387.732704</td>\n",
       "    </tr>\n",
       "    <tr>\n",
       "      <th>5</th>\n",
       "      <td>6249.356120</td>\n",
       "      <td>6142.584040</td>\n",
       "      <td>6176.736014</td>\n",
       "      <td>6283.077612</td>\n",
       "      <td>6372.036672</td>\n",
       "      <td>6502.194885</td>\n",
       "      <td>6463.649339</td>\n",
       "    </tr>\n",
       "    <tr>\n",
       "      <th>6</th>\n",
       "      <td>15982.842105</td>\n",
       "      <td>15768.623900</td>\n",
       "      <td>15758.713848</td>\n",
       "      <td>15803.359323</td>\n",
       "      <td>15916.663379</td>\n",
       "      <td>16227.108276</td>\n",
       "      <td>16218.627610</td>\n",
       "    </tr>\n",
       "    <tr>\n",
       "      <th>7</th>\n",
       "      <td>15490.830189</td>\n",
       "      <td>16062.850312</td>\n",
       "      <td>16341.205330</td>\n",
       "      <td>16450.993820</td>\n",
       "      <td>16619.957187</td>\n",
       "      <td>16376.913534</td>\n",
       "      <td>16942.664179</td>\n",
       "    </tr>\n",
       "    <tr>\n",
       "      <th>8</th>\n",
       "      <td>7632.767493</td>\n",
       "      <td>7387.642287</td>\n",
       "      <td>7400.653900</td>\n",
       "      <td>7528.592033</td>\n",
       "      <td>7532.639452</td>\n",
       "      <td>7772.095824</td>\n",
       "      <td>7892.292043</td>\n",
       "    </tr>\n",
       "    <tr>\n",
       "      <th>9</th>\n",
       "      <td>15434.875000</td>\n",
       "      <td>17127.650794</td>\n",
       "      <td>15673.753247</td>\n",
       "      <td>14689.448598</td>\n",
       "      <td>14759.393939</td>\n",
       "      <td>14576.689655</td>\n",
       "      <td>18626.375000</td>\n",
       "    </tr>\n",
       "    <tr>\n",
       "      <th>10</th>\n",
       "      <td>20038.495495</td>\n",
       "      <td>19192.218905</td>\n",
       "      <td>19560.216004</td>\n",
       "      <td>19651.978138</td>\n",
       "      <td>19654.736538</td>\n",
       "      <td>20530.747592</td>\n",
       "      <td>19828.285714</td>\n",
       "    </tr>\n",
       "    <tr>\n",
       "      <th>11</th>\n",
       "      <td>4808.166216</td>\n",
       "      <td>4597.116163</td>\n",
       "      <td>4677.053069</td>\n",
       "      <td>4762.744195</td>\n",
       "      <td>4742.285171</td>\n",
       "      <td>4628.307270</td>\n",
       "      <td>4640.276292</td>\n",
       "    </tr>\n",
       "    <tr>\n",
       "      <th>12</th>\n",
       "      <td>1423.712000</td>\n",
       "      <td>1273.038724</td>\n",
       "      <td>1322.249088</td>\n",
       "      <td>1350.266600</td>\n",
       "      <td>1383.450000</td>\n",
       "      <td>1380.413395</td>\n",
       "      <td>1431.038235</td>\n",
       "    </tr>\n",
       "    <tr>\n",
       "      <th>13</th>\n",
       "      <td>737.258929</td>\n",
       "      <td>701.903439</td>\n",
       "      <td>716.744752</td>\n",
       "      <td>719.819200</td>\n",
       "      <td>730.704174</td>\n",
       "      <td>762.842650</td>\n",
       "      <td>738.362126</td>\n",
       "    </tr>\n",
       "    <tr>\n",
       "      <th>14</th>\n",
       "      <td>13134.025641</td>\n",
       "      <td>12704.517391</td>\n",
       "      <td>12781.127660</td>\n",
       "      <td>13523.483974</td>\n",
       "      <td>13117.140940</td>\n",
       "      <td>14161.207792</td>\n",
       "      <td>13563.560000</td>\n",
       "    </tr>\n",
       "    <tr>\n",
       "      <th>15</th>\n",
       "      <td>15984.587500</td>\n",
       "      <td>14358.240234</td>\n",
       "      <td>14525.945616</td>\n",
       "      <td>14966.862366</td>\n",
       "      <td>14709.913621</td>\n",
       "      <td>16021.627953</td>\n",
       "      <td>14759.820961</td>\n",
       "    </tr>\n",
       "    <tr>\n",
       "      <th>16</th>\n",
       "      <td>14635.951965</td>\n",
       "      <td>13993.362328</td>\n",
       "      <td>14698.257649</td>\n",
       "      <td>14968.702302</td>\n",
       "      <td>15186.213879</td>\n",
       "      <td>15629.892857</td>\n",
       "      <td>15290.127321</td>\n",
       "    </tr>\n",
       "    <tr>\n",
       "      <th>17</th>\n",
       "      <td>10143.833333</td>\n",
       "      <td>9476.487805</td>\n",
       "      <td>9829.015748</td>\n",
       "      <td>10111.229630</td>\n",
       "      <td>10296.610526</td>\n",
       "      <td>10538.009346</td>\n",
       "      <td>10600.805970</td>\n",
       "    </tr>\n",
       "    <tr>\n",
       "      <th>18</th>\n",
       "      <td>2766.777778</td>\n",
       "      <td>2909.808260</td>\n",
       "      <td>3039.208253</td>\n",
       "      <td>2948.787749</td>\n",
       "      <td>2896.242165</td>\n",
       "      <td>2964.732861</td>\n",
       "      <td>2993.800830</td>\n",
       "    </tr>\n",
       "    <tr>\n",
       "      <th>19</th>\n",
       "      <td>38.491525</td>\n",
       "      <td>36.047273</td>\n",
       "      <td>36.836590</td>\n",
       "      <td>37.025000</td>\n",
       "      <td>37.053691</td>\n",
       "      <td>37.910448</td>\n",
       "      <td>38.893204</td>\n",
       "    </tr>\n",
       "    <tr>\n",
       "      <th>20</th>\n",
       "      <td>368.011111</td>\n",
       "      <td>367.253731</td>\n",
       "      <td>376.505568</td>\n",
       "      <td>364.104743</td>\n",
       "      <td>384.180617</td>\n",
       "      <td>361.800000</td>\n",
       "      <td>359.100000</td>\n",
       "    </tr>\n",
       "  </tbody>\n",
       "</table>\n",
       "</div>"
      ],
      "text/plain": [
       "Age                       0-17         18-25         26-35         36-45  \\\n",
       "Product_Category                                                           \n",
       "1                 13607.600279  13448.852904  13456.256056  13767.068287   \n",
       "2                 10851.982609  10966.741870  11083.914427  11375.946254   \n",
       "3                  9431.505000   9871.727601  10154.785043  10340.294240   \n",
       "4                  2244.659631   2194.358912   2340.182729   2400.508496   \n",
       "5                  6249.356120   6142.584040   6176.736014   6283.077612   \n",
       "6                 15982.842105  15768.623900  15758.713848  15803.359323   \n",
       "7                 15490.830189  16062.850312  16341.205330  16450.993820   \n",
       "8                  7632.767493   7387.642287   7400.653900   7528.592033   \n",
       "9                 15434.875000  17127.650794  15673.753247  14689.448598   \n",
       "10                20038.495495  19192.218905  19560.216004  19651.978138   \n",
       "11                 4808.166216   4597.116163   4677.053069   4762.744195   \n",
       "12                 1423.712000   1273.038724   1322.249088   1350.266600   \n",
       "13                  737.258929    701.903439    716.744752    719.819200   \n",
       "14                13134.025641  12704.517391  12781.127660  13523.483974   \n",
       "15                15984.587500  14358.240234  14525.945616  14966.862366   \n",
       "16                14635.951965  13993.362328  14698.257649  14968.702302   \n",
       "17                10143.833333   9476.487805   9829.015748  10111.229630   \n",
       "18                 2766.777778   2909.808260   3039.208253   2948.787749   \n",
       "19                   38.491525     36.047273     36.836590     37.025000   \n",
       "20                  368.011111    367.253731    376.505568    364.104743   \n",
       "\n",
       "Age                      46-50         51-55           55+  \n",
       "Product_Category                                            \n",
       "1                 13778.098148  14125.773014  14065.121741  \n",
       "2                 11479.071734  11901.649635  12180.648619  \n",
       "3                 10261.654797  10327.424242  10166.398357  \n",
       "4                  2420.013131   2445.980826   2387.732704  \n",
       "5                  6372.036672   6502.194885   6463.649339  \n",
       "6                 15916.663379  16227.108276  16218.627610  \n",
       "7                 16619.957187  16376.913534  16942.664179  \n",
       "8                  7532.639452   7772.095824   7892.292043  \n",
       "9                 14759.393939  14576.689655  18626.375000  \n",
       "10                19654.736538  20530.747592  19828.285714  \n",
       "11                 4742.285171   4628.307270   4640.276292  \n",
       "12                 1383.450000   1380.413395   1431.038235  \n",
       "13                  730.704174    762.842650    738.362126  \n",
       "14                13117.140940  14161.207792  13563.560000  \n",
       "15                14709.913621  16021.627953  14759.820961  \n",
       "16                15186.213879  15629.892857  15290.127321  \n",
       "17                10296.610526  10538.009346  10600.805970  \n",
       "18                 2896.242165   2964.732861   2993.800830  \n",
       "19                   37.053691     37.910448     38.893204  \n",
       "20                  384.180617    361.800000    359.100000  "
      ]
     },
     "execution_count": 72,
     "metadata": {},
     "output_type": "execute_result"
    }
   ],
   "source": [
    "# Create a pivot table to show the average purchase amount by age and product category\n",
    "pivot_table_app = data.pivot_table(values='Purchase', index='Product_Category', columns='Age', aggfunc='mean')\n",
    "pivot_table_app"
   ]
  },
  {
   "cell_type": "code",
   "execution_count": 73,
   "id": "2de85d36",
   "metadata": {},
   "outputs": [
    {
     "data": {
      "image/png": "[encoded data removed]",
      "text/plain": [
       "<Figure size 864x576 with 2 Axes>"
      ]
     },
     "metadata": {
      "needs_background": "light"
     },
     "output_type": "display_data"
    }
   ],
   "source": [
    "plt.figure(figsize=(12, 8))\n",
    "sns.heatmap(pivot_table_app, annot=True, fmt=\".2f\", cmap=\"RdYlGn\", center=pivot_table_app.values.mean())\n",
    "plt.title('Average Purchase Amount by Age and Product Category')\n",
    "plt.show()"
   ]
  },
  {
   "cell_type": "markdown",
   "id": "7ddd92ed",
   "metadata": {},
   "source": [
    "### Relationship between Gender, Product Category and Purchase"
   ]
  },
  {
   "cell_type": "code",
   "execution_count": 74,
   "id": "00dcca30",
   "metadata": {},
   "outputs": [
    {
     "data": {
      "text/html": [
       "<div>\n",
       "<style scoped>\n",
       "    .dataframe tbody tr th:only-of-type {\n",
       "        vertical-align: middle;\n",
       "    }\n",
       "\n",
       "    .dataframe tbody tr th {\n",
       "        vertical-align: top;\n",
       "    }\n",
       "\n",
       "    .dataframe thead th {\n",
       "        text-align: right;\n",
       "    }\n",
       "</style>\n",
       "<table border=\"1\" class=\"dataframe\">\n",
       "  <thead>\n",
       "    <tr style=\"text-align: right;\">\n",
       "      <th>Gender</th>\n",
       "      <th>F</th>\n",
       "      <th>M</th>\n",
       "    </tr>\n",
       "    <tr>\n",
       "      <th>Product_Category</th>\n",
       "      <th></th>\n",
       "      <th></th>\n",
       "    </tr>\n",
       "  </thead>\n",
       "  <tbody>\n",
       "    <tr>\n",
       "      <th>1</th>\n",
       "      <td>13597.162619</td>\n",
       "      <td>13608.164721</td>\n",
       "    </tr>\n",
       "    <tr>\n",
       "      <th>2</th>\n",
       "      <td>11407.496819</td>\n",
       "      <td>11203.590520</td>\n",
       "    </tr>\n",
       "    <tr>\n",
       "      <th>3</th>\n",
       "      <td>10262.656677</td>\n",
       "      <td>10026.550081</td>\n",
       "    </tr>\n",
       "    <tr>\n",
       "      <th>4</th>\n",
       "      <td>2454.851882</td>\n",
       "      <td>2273.512694</td>\n",
       "    </tr>\n",
       "    <tr>\n",
       "      <th>5</th>\n",
       "      <td>6307.239532</td>\n",
       "      <td>6214.230729</td>\n",
       "    </tr>\n",
       "    <tr>\n",
       "      <th>6</th>\n",
       "      <td>15596.428164</td>\n",
       "      <td>15907.851009</td>\n",
       "    </tr>\n",
       "    <tr>\n",
       "      <th>7</th>\n",
       "      <td>16394.853659</td>\n",
       "      <td>16355.789777</td>\n",
       "    </tr>\n",
       "    <tr>\n",
       "      <th>8</th>\n",
       "      <td>7499.924787</td>\n",
       "      <td>7498.554419</td>\n",
       "    </tr>\n",
       "    <tr>\n",
       "      <th>9</th>\n",
       "      <td>15724.314286</td>\n",
       "      <td>15498.888235</td>\n",
       "    </tr>\n",
       "    <tr>\n",
       "      <th>10</th>\n",
       "      <td>19692.076592</td>\n",
       "      <td>19670.731264</td>\n",
       "    </tr>\n",
       "    <tr>\n",
       "      <th>11</th>\n",
       "      <td>4676.371808</td>\n",
       "      <td>4687.425261</td>\n",
       "    </tr>\n",
       "    <tr>\n",
       "      <th>12</th>\n",
       "      <td>1422.909269</td>\n",
       "      <td>1305.154037</td>\n",
       "    </tr>\n",
       "    <tr>\n",
       "      <th>13</th>\n",
       "      <td>733.846785</td>\n",
       "      <td>718.306092</td>\n",
       "    </tr>\n",
       "    <tr>\n",
       "      <th>14</th>\n",
       "      <td>13747.362761</td>\n",
       "      <td>12722.321111</td>\n",
       "    </tr>\n",
       "    <tr>\n",
       "      <th>15</th>\n",
       "      <td>14695.326960</td>\n",
       "      <td>14797.431350</td>\n",
       "    </tr>\n",
       "    <tr>\n",
       "      <th>16</th>\n",
       "      <td>14681.491257</td>\n",
       "      <td>14793.384056</td>\n",
       "    </tr>\n",
       "    <tr>\n",
       "      <th>17</th>\n",
       "      <td>9846.403226</td>\n",
       "      <td>10209.732558</td>\n",
       "    </tr>\n",
       "    <tr>\n",
       "      <th>18</th>\n",
       "      <td>2848.607330</td>\n",
       "      <td>2990.168793</td>\n",
       "    </tr>\n",
       "    <tr>\n",
       "      <th>19</th>\n",
       "      <td>37.676275</td>\n",
       "      <td>36.793403</td>\n",
       "    </tr>\n",
       "    <tr>\n",
       "      <th>20</th>\n",
       "      <td>371.564315</td>\n",
       "      <td>370.052545</td>\n",
       "    </tr>\n",
       "  </tbody>\n",
       "</table>\n",
       "</div>"
      ],
      "text/plain": [
       "Gender                       F             M\n",
       "Product_Category                            \n",
       "1                 13597.162619  13608.164721\n",
       "2                 11407.496819  11203.590520\n",
       "3                 10262.656677  10026.550081\n",
       "4                  2454.851882   2273.512694\n",
       "5                  6307.239532   6214.230729\n",
       "6                 15596.428164  15907.851009\n",
       "7                 16394.853659  16355.789777\n",
       "8                  7499.924787   7498.554419\n",
       "9                 15724.314286  15498.888235\n",
       "10                19692.076592  19670.731264\n",
       "11                 4676.371808   4687.425261\n",
       "12                 1422.909269   1305.154037\n",
       "13                  733.846785    718.306092\n",
       "14                13747.362761  12722.321111\n",
       "15                14695.326960  14797.431350\n",
       "16                14681.491257  14793.384056\n",
       "17                 9846.403226  10209.732558\n",
       "18                 2848.607330   2990.168793\n",
       "19                   37.676275     36.793403\n",
       "20                  371.564315    370.052545"
      ]
     },
     "execution_count": 74,
     "metadata": {},
     "output_type": "execute_result"
    }
   ],
   "source": [
    "# Create a pivot table to show the average purchase amount by age and product category\n",
    "pivot_table_gpp = data.pivot_table(values='Purchase', index='Product_Category', columns='Gender', aggfunc='mean')\n",
    "pivot_table_gpp"
   ]
  },
  {
   "cell_type": "code",
   "execution_count": 75,
   "id": "933872f0",
   "metadata": {},
   "outputs": [
    {
     "data": {
      "image/png": "[encoded data removed]",
      "text/plain": [
       "<Figure size 864x576 with 2 Axes>"
      ]
     },
     "metadata": {
      "needs_background": "light"
     },
     "output_type": "display_data"
    }
   ],
   "source": [
    "plt.figure(figsize=(12, 8))\n",
    "sns.heatmap(pivot_table_gpp, annot=True, fmt=\".2f\", cmap=\"RdYlGn\", center=pivot_table_gpp.values.mean())\n",
    "plt.title('Average Purchase Amount by Gender and Product Category')\n",
    "plt.show()"
   ]
  },
  {
   "cell_type": "markdown",
   "id": "bb62b1a6",
   "metadata": {},
   "source": [
    "### How does Gender Affect the amount spent?"
   ]
  },
  {
   "cell_type": "code",
   "execution_count": 76,
   "id": "d2d61a17",
   "metadata": {},
   "outputs": [],
   "source": [
    "from scipy.stats import norm"
   ]
  },
  {
   "cell_type": "code",
   "execution_count": 77,
   "id": "d41a4dc9",
   "metadata": {},
   "outputs": [
    {
     "data": {
      "text/html": [
       "<div>\n",
       "<style scoped>\n",
       "    .dataframe tbody tr th:only-of-type {\n",
       "        vertical-align: middle;\n",
       "    }\n",
       "\n",
       "    .dataframe tbody tr th {\n",
       "        vertical-align: top;\n",
       "    }\n",
       "\n",
       "    .dataframe thead th {\n",
       "        text-align: right;\n",
       "    }\n",
       "</style>\n",
       "<table border=\"1\" class=\"dataframe\">\n",
       "  <thead>\n",
       "    <tr style=\"text-align: right;\">\n",
       "      <th></th>\n",
       "      <th>User_ID</th>\n",
       "      <th>Product_ID</th>\n",
       "      <th>Gender</th>\n",
       "      <th>Age</th>\n",
       "      <th>Occupation</th>\n",
       "      <th>City_Category</th>\n",
       "      <th>Stay_In_Current_City_Years</th>\n",
       "      <th>Marital_Status</th>\n",
       "      <th>Product_Category</th>\n",
       "      <th>Purchase</th>\n",
       "      <th>Purchase_clipped</th>\n",
       "    </tr>\n",
       "  </thead>\n",
       "  <tbody>\n",
       "    <tr>\n",
       "      <th>0</th>\n",
       "      <td>1000001</td>\n",
       "      <td>P00069042</td>\n",
       "      <td>F</td>\n",
       "      <td>0-17</td>\n",
       "      <td>10</td>\n",
       "      <td>A</td>\n",
       "      <td>2</td>\n",
       "      <td>0</td>\n",
       "      <td>3</td>\n",
       "      <td>8370</td>\n",
       "      <td>8370.0</td>\n",
       "    </tr>\n",
       "    <tr>\n",
       "      <th>1</th>\n",
       "      <td>1000001</td>\n",
       "      <td>P00248942</td>\n",
       "      <td>F</td>\n",
       "      <td>0-17</td>\n",
       "      <td>10</td>\n",
       "      <td>A</td>\n",
       "      <td>2</td>\n",
       "      <td>0</td>\n",
       "      <td>1</td>\n",
       "      <td>15200</td>\n",
       "      <td>15200.0</td>\n",
       "    </tr>\n",
       "    <tr>\n",
       "      <th>2</th>\n",
       "      <td>1000001</td>\n",
       "      <td>P00087842</td>\n",
       "      <td>F</td>\n",
       "      <td>0-17</td>\n",
       "      <td>10</td>\n",
       "      <td>A</td>\n",
       "      <td>2</td>\n",
       "      <td>0</td>\n",
       "      <td>12</td>\n",
       "      <td>1422</td>\n",
       "      <td>1984.0</td>\n",
       "    </tr>\n",
       "    <tr>\n",
       "      <th>3</th>\n",
       "      <td>1000001</td>\n",
       "      <td>P00085442</td>\n",
       "      <td>F</td>\n",
       "      <td>0-17</td>\n",
       "      <td>10</td>\n",
       "      <td>A</td>\n",
       "      <td>2</td>\n",
       "      <td>0</td>\n",
       "      <td>12</td>\n",
       "      <td>1057</td>\n",
       "      <td>1984.0</td>\n",
       "    </tr>\n",
       "    <tr>\n",
       "      <th>4</th>\n",
       "      <td>1000002</td>\n",
       "      <td>P00285442</td>\n",
       "      <td>M</td>\n",
       "      <td>55+</td>\n",
       "      <td>16</td>\n",
       "      <td>C</td>\n",
       "      <td>4+</td>\n",
       "      <td>0</td>\n",
       "      <td>8</td>\n",
       "      <td>7969</td>\n",
       "      <td>7969.0</td>\n",
       "    </tr>\n",
       "  </tbody>\n",
       "</table>\n",
       "</div>"
      ],
      "text/plain": [
       "   User_ID Product_ID Gender   Age Occupation City_Category  \\\n",
       "0  1000001  P00069042      F  0-17         10             A   \n",
       "1  1000001  P00248942      F  0-17         10             A   \n",
       "2  1000001  P00087842      F  0-17         10             A   \n",
       "3  1000001  P00085442      F  0-17         10             A   \n",
       "4  1000002  P00285442      M   55+         16             C   \n",
       "\n",
       "  Stay_In_Current_City_Years Marital_Status Product_Category  Purchase  \\\n",
       "0                          2              0                3      8370   \n",
       "1                          2              0                1     15200   \n",
       "2                          2              0               12      1422   \n",
       "3                          2              0               12      1057   \n",
       "4                         4+              0                8      7969   \n",
       "\n",
       "   Purchase_clipped  \n",
       "0            8370.0  \n",
       "1           15200.0  \n",
       "2            1984.0  \n",
       "3            1984.0  \n",
       "4            7969.0  "
      ]
     },
     "execution_count": 77,
     "metadata": {},
     "output_type": "execute_result"
    }
   ],
   "source": [
    "data.head()"
   ]
  },
  {
   "cell_type": "code",
   "execution_count": 78,
   "id": "fb762729",
   "metadata": {},
   "outputs": [],
   "source": [
    "# Function to compute the confidence interval\n",
    "def compute_confidence_interval(df, confidence=0.95):\n",
    "    n = len(df)\n",
    "    mean = np.mean(df)\n",
    "    std_err = np.std(df, ddof=1) / np.sqrt(n)  # Corrected here\n",
    "    margin_of_error = std_err * norm.ppf((1 + confidence) / 2)\n",
    "    return mean, mean - margin_of_error, mean + margin_of_error"
   ]
  },
  {
   "cell_type": "code",
   "execution_count": 79,
   "id": "f0d6b19f",
   "metadata": {},
   "outputs": [],
   "source": [
    "# Function for bootstrapping confidence intervals\n",
    "def bootstrap_confidence_interval(df, sample_size, n_bootstrap=1000, confidence=0.95):\n",
    "    bootstrapped_means = []\n",
    "    for _ in range(n_bootstrap):\n",
    "        sample = np.random.choice(df, size=sample_size, replace=True)\n",
    "        bootstrapped_means.append(np.mean(sample))\n",
    "    mean = np.mean(bootstrapped_means)\n",
    "    margin_of_error = np.std(bootstrapped_means) * norm.ppf((1 + confidence) / 2)\n",
    "    return mean, mean - margin_of_error, mean + margin_of_error"
   ]
  },
  {
   "cell_type": "code",
   "execution_count": 80,
   "id": "ba98bdb5",
   "metadata": {},
   "outputs": [
    {
     "name": "stdout",
     "output_type": "stream",
     "text": [
      "Entire data - Gender: F, Mean: 8734.57, 95% CI: [8709.21, 8759.92]\n",
      "Entire data - Gender: M, Mean: 9437.53, 95% CI: [9422.02, 9453.03]\n"
     ]
    }
   ],
   "source": [
    "# Compute confidence intervals for the entire data\n",
    "genders = data['Gender'].unique()\n",
    "for gender in genders:\n",
    "    gender_df = data[data['Gender'] == gender]['Purchase'].to_numpy()  # Convert to NumPy array\n",
    "    mean, lower, upper = compute_confidence_interval(gender_df)\n",
    "    print(f'Entire data - Gender: {gender}, Mean: {mean:.2f}, 95% CI: [{lower:.2f}, {upper:.2f}]')"
   ]
  },
  {
   "cell_type": "code",
   "execution_count": 81,
   "id": "fd125984",
   "metadata": {},
   "outputs": [
    {
     "name": "stdout",
     "output_type": "stream",
     "text": [
      "Sample size 300 - Gender: F, Mean: 8737.14, 95% CI: [8175.35, 9298.94]\n",
      "Sample size 300 - Gender: M, Mean: 9430.77, 95% CI: [8869.89, 9991.66]\n",
      "Sample size 3000 - Gender: F, Mean: 8738.42, 95% CI: [8564.85, 8912.00]\n",
      "Sample size 3000 - Gender: M, Mean: 9437.05, 95% CI: [9255.78, 9618.31]\n",
      "Sample size 30000 - Gender: F, Mean: 8735.31, 95% CI: [8681.02, 8789.61]\n",
      "Sample size 30000 - Gender: M, Mean: 9435.53, 95% CI: [9377.79, 9493.27]\n"
     ]
    }
   ],
   "source": [
    "# Sample sizes\n",
    "sample_sizes = [300, 3000, 30000]\n",
    "for sample_size in sample_sizes:\n",
    "    for gender in genders:\n",
    "        gender_df = data[data['Gender'] == gender]['Purchase'].to_numpy()  # Convert to NumPy array\n",
    "        mean, lower, upper = bootstrap_confidence_interval(gender_df, sample_size)\n",
    "        print(f'Sample size {sample_size} - Gender: {gender}, Mean: {mean:.2f}, 95% CI: [{lower:.2f}, {upper:.2f}]')"
   ]
  },
  {
   "cell_type": "markdown",
   "id": "03ee3795",
   "metadata": {},
   "source": [
    "### How does Marital Status Affect the amount spent?"
   ]
  },
  {
   "cell_type": "code",
   "execution_count": 82,
   "id": "17390876",
   "metadata": {},
   "outputs": [
    {
     "name": "stdout",
     "output_type": "stream",
     "text": [
      "Entire data - Marital Status: 0, Mean: 9265.91, 95% CI: [9248.62, 9283.20]\n",
      "Entire data - Marital Status: 1, Mean: 9261.17, 95% CI: [9240.46, 9281.89]\n"
     ]
    }
   ],
   "source": [
    "marital_statuses = data['Marital_Status'].unique()\n",
    "for status in marital_statuses:\n",
    "    status_df = data[data['Marital_Status'] == status]['Purchase'].to_numpy()\n",
    "    mean, lower, upper = compute_confidence_interval(status_df)\n",
    "    print(f'Entire data - Marital Status: {status}, Mean: {mean:.2f}, 95% CI: [{lower:.2f}, {upper:.2f}]')"
   ]
  },
  {
   "cell_type": "code",
   "execution_count": 83,
   "id": "a9f6b2af",
   "metadata": {},
   "outputs": [
    {
     "name": "stdout",
     "output_type": "stream",
     "text": [
      "Sample size 300 - Marital Status: 0, Mean: 9258.98, 95% CI: [8680.45, 9837.51]\n",
      "Sample size 300 - Marital Status: 1, Mean: 9254.64, 95% CI: [8684.09, 9825.19]\n",
      "Sample size 3000 - Marital Status: 0, Mean: 9263.17, 95% CI: [9077.71, 9448.63]\n",
      "Sample size 3000 - Marital Status: 1, Mean: 9260.98, 95% CI: [9080.81, 9441.15]\n",
      "Sample size 30000 - Marital Status: 0, Mean: 9266.14, 95% CI: [9208.10, 9324.18]\n",
      "Sample size 30000 - Marital Status: 1, Mean: 9261.71, 95% CI: [9203.81, 9319.61]\n"
     ]
    }
   ],
   "source": [
    "# Sample sizes\n",
    "sample_sizes = [300, 3000, 30000]\n",
    "for sample_size in sample_sizes:\n",
    "    for status in marital_statuses:\n",
    "        status_df = data[data['Marital_Status'] == status]['Purchase'].to_numpy()\n",
    "        mean, lower, upper = bootstrap_confidence_interval(status_df, sample_size)\n",
    "        print(f'Sample size {sample_size} - Marital Status: {status}, Mean: {mean:.2f}, 95% CI: [{lower:.2f}, {upper:.2f}]')"
   ]
  },
  {
   "cell_type": "markdown",
   "id": "09081fcf",
   "metadata": {},
   "source": [
    "### How does Age Affect the amount spent?"
   ]
  },
  {
   "cell_type": "code",
   "execution_count": 84,
   "id": "ceec2b46",
   "metadata": {},
   "outputs": [
    {
     "name": "stdout",
     "output_type": "stream",
     "text": [
      "Entire data - Age group: 0-17, Mean: 8933.46, 95% CI: [8851.95, 9014.98]\n",
      "Entire data - Age group: 55+, Mean: 9336.28, 95% CI: [9269.30, 9403.26]\n",
      "Entire data - Age group: 26-35, Mean: 9252.69, 95% CI: [9231.73, 9273.65]\n",
      "Entire data - Age group: 46-50, Mean: 9208.63, 95% CI: [9163.09, 9254.17]\n",
      "Entire data - Age group: 51-55, Mean: 9534.81, 95% CI: [9483.99, 9585.62]\n",
      "Entire data - Age group: 36-45, Mean: 9331.35, 95% CI: [9301.67, 9361.03]\n",
      "Entire data - Age group: 18-25, Mean: 9169.66, 95% CI: [9138.41, 9200.92]\n"
     ]
    }
   ],
   "source": [
    "# Compute confidence intervals for the entire data\n",
    "age_groups = data['Age'].unique()\n",
    "for age_group in age_groups:\n",
    "    age_group_df = data[data['Age'] == age_group]['Purchase'].to_numpy()\n",
    "    mean, lower, upper = compute_confidence_interval(age_group_df)\n",
    "    print(f'Entire data - Age group: {age_group}, Mean: {mean:.2f}, 95% CI: [{lower:.2f}, {upper:.2f}]')"
   ]
  },
  {
   "cell_type": "code",
   "execution_count": 85,
   "id": "09863956",
   "metadata": {},
   "outputs": [
    {
     "name": "stdout",
     "output_type": "stream",
     "text": [
      "Sample size 300 - Age group: 0-17, Mean: 8936.67, 95% CI: [8351.55, 9521.79]\n",
      "Sample size 300 - Age group: 55+, Mean: 9351.40, 95% CI: [8786.26, 9916.53]\n",
      "Sample size 300 - Age group: 26-35, Mean: 9279.13, 95% CI: [8722.53, 9835.73]\n",
      "Sample size 300 - Age group: 46-50, Mean: 9202.76, 95% CI: [8651.84, 9753.68]\n",
      "Sample size 300 - Age group: 51-55, Mean: 9522.20, 95% CI: [8947.05, 10097.36]\n",
      "Sample size 300 - Age group: 36-45, Mean: 9326.66, 95% CI: [8758.46, 9894.87]\n",
      "Sample size 300 - Age group: 18-25, Mean: 9172.75, 95% CI: [8578.32, 9767.19]\n",
      "Sample size 3000 - Age group: 0-17, Mean: 8936.30, 95% CI: [8742.30, 9130.31]\n",
      "Sample size 3000 - Age group: 55+, Mean: 9334.19, 95% CI: [9156.83, 9511.54]\n",
      "Sample size 3000 - Age group: 26-35, Mean: 9253.72, 95% CI: [9076.37, 9431.08]\n",
      "Sample size 3000 - Age group: 46-50, Mean: 9206.01, 95% CI: [9028.00, 9384.02]\n",
      "Sample size 3000 - Age group: 51-55, Mean: 9536.49, 95% CI: [9358.52, 9714.45]\n",
      "Sample size 3000 - Age group: 36-45, Mean: 9331.65, 95% CI: [9148.61, 9514.68]\n",
      "Sample size 3000 - Age group: 18-25, Mean: 9171.75, 95% CI: [8990.60, 9352.90]\n",
      "Sample size 30000 - Age group: 0-17, Mean: 8933.40, 95% CI: [8874.37, 8992.44]\n",
      "Sample size 30000 - Age group: 55+, Mean: 9335.71, 95% CI: [9279.30, 9392.11]\n",
      "Sample size 30000 - Age group: 26-35, Mean: 9253.80, 95% CI: [9197.15, 9310.45]\n",
      "Sample size 30000 - Age group: 46-50, Mean: 9208.07, 95% CI: [9153.30, 9262.84]\n",
      "Sample size 30000 - Age group: 51-55, Mean: 9533.72, 95% CI: [9476.04, 9591.40]\n",
      "Sample size 30000 - Age group: 36-45, Mean: 9331.49, 95% CI: [9272.77, 9390.21]\n",
      "Sample size 30000 - Age group: 18-25, Mean: 9168.11, 95% CI: [9109.24, 9226.98]\n"
     ]
    }
   ],
   "source": [
    "# Sample sizes\n",
    "sample_sizes = [300, 3000, 30000]\n",
    "for sample_size in sample_sizes:\n",
    "    for age_group in age_groups:\n",
    "        age_group_df = data[data['Age'] == age_group]['Purchase'].to_numpy()\n",
    "        mean, lower, upper = bootstrap_confidence_interval(age_group_df, sample_size)\n",
    "        print(f'Sample size {sample_size} - Age group: {age_group}, Mean: {mean:.2f}, 95% CI: [{lower:.2f}, {upper:.2f}]')"
   ]
  },
  {
   "cell_type": "markdown",
   "id": "cdfd873a",
   "metadata": {},
   "source": [
    "# 📊 Insights 📊\n",
    "\n",
    "## Age Distribution 🎂\n",
    "- ~ 80% of the users are aged between 18-50:\n",
    "    - 40%: 26-35 📅\n",
    "    - 18%: 18-25 🎈\n",
    "    - 20%: 36-45 🗓️\n",
    "    \n",
    "## Gender Ratio 👫\n",
    "- 75% of the users are Male ♂️ and 25% are Female ♀️\n",
    "    \n",
    "## Marital Status 👩‍❤️‍👨\n",
    "- 60% are Single 👤 and 40% are Married 👫\n",
    "    \n",
    "## City Residency 🏙️\n",
    "- 35% have been staying in the city for 1 year 🏠\n",
    "- 18% have been staying for 2 years 🏠🏠\n",
    "- 17% have been staying for 3 years 🏠🏠🏠\n",
    "    \n",
    "## Product Categories 🛍️\n",
    "- Total of 20 product categories available 📦\n",
    "    \n",
    "## Occupations 💼\n",
    "- 20 different types of occupations in the city 👔\n",
    "\n",
    "## User Demographics 📊\n",
    "- Most users are Male ♂️\n",
    "- 20 different types of Occupations and Product Categories 📋\n",
    "- Majority of users belong to City Category B 🏙️\n",
    "- More users are Single compared to Married 👤 vs 👫\n",
    "- Product Categories 1, 2, 5, 8, & 11 have the highest purchasing frequency 🛒🔝\n",
    "\n",
    "## Average Spending 💰\n",
    "- Average amount spent by Male customers: ₹925,344.40 💸\n",
    "- Average amount spent by Female customers: ₹712,024.39 💸\n",
    "\n",
    "## Confidence Intervals 📈\n",
    "\n",
    "## Gender-wise\n",
    "\n",
    "Now using the **Central Limit Theorem** for the **population**:\n",
    "\n",
    "1. Average amount spend by **male** customers is **9437.53**\n",
    "2. Average amount spend by **female** customers is **8734.57**\n",
    "\n",
    "For **99% Confidence Interval**: <br>\n",
    "Now we can infer about the population that, **99% of the times**:\n",
    "\n",
    "1. Average amount spend by male customer will lie in between: **(9436.27, 9438.79)**\n",
    "2. Average amount spend by female customer will lie in between: **(8732.44, 8736.70)**\n",
    "\n",
    "\n",
    "## Marital Status-wise\n",
    "\n",
    "Now using the **Central Limit Theorem** for the **population**:\n",
    "\n",
    "1. Average amount spend by **Married** customers is **9261.17**\n",
    "2. Average amount spend by **Unmarried** customers is **9265.91**\n",
    "  \n",
    "\n",
    "For **80% Confidence Interval**: <br>\n",
    "The confidence interval of means of Married and Unmarried is overlapping.<br>\n",
    "But the overlapping has significantly reduced.\n",
    "\n",
    "Now we can infer about the population that, **80% of the times**:\n",
    "\n",
    "1. Average amount spend by Married customer will lie in between: **(9234.07, 9288.27)**\n",
    "2. Average amount spend by Unmarried customer will lie in between: **(9243.28, 9288.54)**\n",
    "\n",
    "## Age-wise\n",
    "\n",
    "For **90% Confidence Interval**: <br>\n",
    "\n",
    "1. For **age 26-35** --> confidence interval of means: **(9217.50, 9287.88)**\n",
    "2. For **age 36-45** --> confidence interval of means: **(9281.56, 9381.14)**\n",
    "3. For **age 18-25** --> confidence interval of means: **(9117.22, 9222.10)**\n",
    "4. For **age 46-50** --> confidence interval of means: **(9132.20, 9285.06)**\n",
    "5. For **age 51-55** --> confidence interval of means: **(9449.57, 9619.05)**\n",
    "6. For **age 55+** --> confidence interval of means: **(9223.81, 9448.75)**\n",
    "7. For **age 0-17** --> confidence interval of means: **(8796.69, 9070.23)**"
   ]
  },
  {
   "cell_type": "markdown",
   "id": "b4667d99",
   "metadata": {},
   "source": [
    "# 💡 Recommendations 💡\n",
    "## 1) Gender-focused Strategy 🚹🚺\n",
    "- Men tend to spend more than women. The company should prioritize retaining existing male customers and attracting new male customers.\n",
    "    \n",
    "## 2) Product Category Insight 🛍️\n",
    "- Products in categories 1, 2, 5, 8, & 11 have the highest purchasing frequency and are favored by customers. The company can consider increasing the promotion and availability of these products, as well as boosting less-purchased items.\n",
    "    \n",
    "## 3) Marital Status Approach 💑\n",
    "- Unmarried customers exhibit higher spending compared to married customers. The company should concentrate on attracting and engaging unmarried customers.\n",
    "    \n",
    "## 4) Targeting Specific Age Group 🎈\n",
    "- Customers aged 18-45 contribute more to the spending. To enhance revenue, the company should focus on acquiring customers within this age range.\n",
    "    \n",
    "## 5) City Category Strategy 🏙️\n",
    "- Male customers residing in City_Category C demonstrate higher spending compared to those in City_Category B or A. To increase revenue, the company should consider emphasizing product offerings in City_Category C."
   ]
  },
  {
   "cell_type": "code",
   "execution_count": null,
   "id": "4366b64e",
   "metadata": {},
   "outputs": [],
   "source": []
  }
 ],
 "metadata": {
  "kernelspec": {
   "display_name": "Python 3 (ipykernel)",
   "language": "python",
   "name": "python3"
  },
  "language_info": {
   "codemirror_mode": {
    "name": "ipython",
    "version": 3
   },
   "file_extension": ".py",
   "mimetype": "text/x-python",
   "name": "python",
   "nbconvert_exporter": "python",
   "pygments_lexer": "ipython3",
   "version": "3.9.7"
  }
 },
 "nbformat": 4,
 "nbformat_minor": 5
}
